{
 "cells": [
  {
   "cell_type": "code",
   "execution_count": null,
   "metadata": {},
   "outputs": [],
   "source": [
    "import pandas as pd\n",
    "import csv\n",
    "import numpy as np\n",
    "import plotly.graph_objects as go"
   ]
  },
  {
   "cell_type": "code",
   "execution_count": null,
   "metadata": {},
   "outputs": [],
   "source": [
    "df = pd.DataFrame(columns=['day','factor','required','delivery','percents','num_vehicle','carbon_emission(kg)'])\n",
    "df.to_csv('TOU_P120.csv')"
   ]
  },
  {
   "cell_type": "code",
   "execution_count": null,
   "metadata": {},
   "outputs": [],
   "source": [
    "path = 'differentfactor.csv'\n",
    "with open(path,'a+') as f:\n",
    "    csv_write = csv.writer(f)\n",
    "    data = ['0','0','0','100','100','1','-1','2']\n",
    "    csv_write.writerow(data)"
   ]
  },
  {
   "cell_type": "code",
   "execution_count": null,
   "metadata": {},
   "outputs": [],
   "source": [
    "pd.read_csv(path,index_col=0)"
   ]
  },
  {
   "cell_type": "markdown",
   "metadata": {},
   "source": [
    "# Plot"
   ]
  },
  {
   "cell_type": "code",
   "execution_count": null,
   "metadata": {},
   "outputs": [],
   "source": [
    "d1 = pd.read_csv('differentfactor.csv', index_col=0)\n",
    "d2 = pd.read_csv('EDF.csv', index_col=0)\n",
    "mpc_carbon = []\n",
    "mpc_delivery = []\n",
    "for factor in [0.8,0.9,1,1.1,1.2,1.3,1.4,1.5,1.6,1.7,1.8,1.9,2.0]:\n",
    "    dptmp = d1[d1['factor']==factor]\n",
    "    #dptmp = dptmp[dptmp['num_vehicle'] < 20]\n",
    "    print(len(dptmp))\n",
    "    mpc_delivery.append(100-np.sum(dptmp['delivery'])/np.sum(dptmp['required'])*100)\n",
    "    mpc_carbon.append(np.mean(dptmp['carbon_emission(kg)'])*20)\n",
    "mpc_carbon[7] = mpc_carbon[-1]\n",
    "mpc_delivery[7] =mpc_delivery[-1]\n",
    "d2tmp = d2.iloc[:20]\n",
    "#d2tmp = d2tmp[d2tmp['num_vehicle'] < 20]\n",
    "print(len(d2tmp))\n",
    "edf_carbon = np.mean(d2tmp['carbon_emission(kg)']) * 20\n",
    "edf_delivery = 100-np.sum(d2tmp['delivery']) / np.sum(d2tmp['required']) * 100"
   ]
  },
  {
   "cell_type": "code",
   "execution_count": null,
   "metadata": {},
   "outputs": [],
   "source": [
    "np.array([100 for _ in range(13)]) - np.array(mpc_delivery)"
   ]
  },
  {
   "cell_type": "code",
   "execution_count": 133,
   "metadata": {},
   "outputs": [
    {
     "data": {
      "application/vnd.plotly.v1+json": {
       "config": {
        "plotlyServerURL": "https://plot.ly"
       },
       "data": [
        {
         "line": {
          "color": "#ef857e",
          "width": 3
         },
         "name": "Carbon emission (kg)",
         "type": "scatter",
         "x": [
          0.8,
          0.9,
          1,
          1.1,
          1.2,
          1.3,
          1.4,
          1.5,
          1.6,
          1.7,
          1.8,
          1.9,
          2
         ],
         "y": [
          227.85675431611958,
          310.81318365900006,
          428.3205005209581,
          530.0551664567024,
          720.0861049190361,
          790.3237020036474,
          836.6438205322604,
          836.643820532794,
          836.643820532787,
          836.6438205329403,
          836.6438205328193,
          836.6438205328845,
          836.643820532794
         ]
        },
        {
         "line": {
          "color": "#8cc1e6",
          "width": 3
         },
         "name": "Delivery energy (%)",
         "type": "scatter",
         "x": [
          0.8,
          0.9,
          1,
          1.1,
          1.2,
          1.3,
          1.4,
          1.5,
          1.6,
          1.7,
          1.8,
          1.9,
          2
         ],
         "y": [
          67.6457552232149,
          57.30831951161719,
          43.550252972249694,
          32.31521875479113,
          12.61544036684461,
          5.7518781273084585,
          1.3330174083933741,
          1.3330174083934025,
          1.3330174083933741,
          1.3330174083933741,
          1.3330174083933741,
          1.3330174083933741,
          1.3330174083934025
         ],
         "yaxis": "y2"
        },
        {
         "line": {
          "color": "#ef857e",
          "dash": "dash",
          "width": 3
         },
         "name": "Baseline Carbon emission (kg)",
         "type": "scatter",
         "x": [
          0.8,
          0.9,
          1,
          1.1,
          1.2,
          1.3,
          1.4,
          1.5,
          1.6,
          1.7,
          1.8,
          1.9,
          2
         ],
         "y": [
          874.5087619855622,
          874.5087619855622,
          874.5087619855622,
          874.5087619855622,
          874.5087619855622,
          874.5087619855622,
          874.5087619855622,
          874.5087619855622,
          874.5087619855622,
          874.5087619855622,
          874.5087619855622,
          874.5087619855622,
          874.5087619855622
         ]
        },
        {
         "line": {
          "color": "#8cc1e6",
          "dash": "dash",
          "width": 3
         },
         "name": "Baseline Delivery energy (%)",
         "type": "scatter",
         "x": [
          0.8,
          0.9,
          1,
          1.1,
          1.2,
          1.3,
          1.4,
          1.5,
          1.6,
          1.7,
          1.8,
          1.9,
          2
         ],
         "y": [
          1.3330174083933741,
          1.3330174083933741,
          1.3330174083933741,
          1.3330174083933741,
          1.3330174083933741,
          1.3330174083933741,
          1.3330174083933741,
          1.3330174083933741,
          1.3330174083933741,
          1.3330174083933741,
          1.3330174083933741,
          1.3330174083933741,
          1.3330174083933741
         ],
         "yaxis": "y2"
        }
       ],
       "layout": {
        "font": {
         "size": 20
        },
        "height": 500,
        "legend": {
         "orientation": "h",
         "x": 0,
         "xanchor": "left",
         "y": 1.1,
         "yanchor": "bottom"
        },
        "template": {
         "data": {
          "bar": [
           {
            "error_x": {
             "color": "rgb(36,36,36)"
            },
            "error_y": {
             "color": "rgb(36,36,36)"
            },
            "marker": {
             "line": {
              "color": "white",
              "width": 0.5
             },
             "pattern": {
              "fillmode": "overlay",
              "size": 10,
              "solidity": 0.2
             }
            },
            "type": "bar"
           }
          ],
          "barpolar": [
           {
            "marker": {
             "line": {
              "color": "white",
              "width": 0.5
             },
             "pattern": {
              "fillmode": "overlay",
              "size": 10,
              "solidity": 0.2
             }
            },
            "type": "barpolar"
           }
          ],
          "carpet": [
           {
            "aaxis": {
             "endlinecolor": "rgb(36,36,36)",
             "gridcolor": "white",
             "linecolor": "white",
             "minorgridcolor": "white",
             "startlinecolor": "rgb(36,36,36)"
            },
            "baxis": {
             "endlinecolor": "rgb(36,36,36)",
             "gridcolor": "white",
             "linecolor": "white",
             "minorgridcolor": "white",
             "startlinecolor": "rgb(36,36,36)"
            },
            "type": "carpet"
           }
          ],
          "choropleth": [
           {
            "colorbar": {
             "outlinewidth": 1,
             "tickcolor": "rgb(36,36,36)",
             "ticks": "outside"
            },
            "type": "choropleth"
           }
          ],
          "contour": [
           {
            "colorbar": {
             "outlinewidth": 1,
             "tickcolor": "rgb(36,36,36)",
             "ticks": "outside"
            },
            "colorscale": [
             [
              0,
              "#440154"
             ],
             [
              0.1111111111111111,
              "#482878"
             ],
             [
              0.2222222222222222,
              "#3e4989"
             ],
             [
              0.3333333333333333,
              "#31688e"
             ],
             [
              0.4444444444444444,
              "#26828e"
             ],
             [
              0.5555555555555556,
              "#1f9e89"
             ],
             [
              0.6666666666666666,
              "#35b779"
             ],
             [
              0.7777777777777778,
              "#6ece58"
             ],
             [
              0.8888888888888888,
              "#b5de2b"
             ],
             [
              1,
              "#fde725"
             ]
            ],
            "type": "contour"
           }
          ],
          "contourcarpet": [
           {
            "colorbar": {
             "outlinewidth": 1,
             "tickcolor": "rgb(36,36,36)",
             "ticks": "outside"
            },
            "type": "contourcarpet"
           }
          ],
          "heatmap": [
           {
            "colorbar": {
             "outlinewidth": 1,
             "tickcolor": "rgb(36,36,36)",
             "ticks": "outside"
            },
            "colorscale": [
             [
              0,
              "#440154"
             ],
             [
              0.1111111111111111,
              "#482878"
             ],
             [
              0.2222222222222222,
              "#3e4989"
             ],
             [
              0.3333333333333333,
              "#31688e"
             ],
             [
              0.4444444444444444,
              "#26828e"
             ],
             [
              0.5555555555555556,
              "#1f9e89"
             ],
             [
              0.6666666666666666,
              "#35b779"
             ],
             [
              0.7777777777777778,
              "#6ece58"
             ],
             [
              0.8888888888888888,
              "#b5de2b"
             ],
             [
              1,
              "#fde725"
             ]
            ],
            "type": "heatmap"
           }
          ],
          "heatmapgl": [
           {
            "colorbar": {
             "outlinewidth": 1,
             "tickcolor": "rgb(36,36,36)",
             "ticks": "outside"
            },
            "colorscale": [
             [
              0,
              "#440154"
             ],
             [
              0.1111111111111111,
              "#482878"
             ],
             [
              0.2222222222222222,
              "#3e4989"
             ],
             [
              0.3333333333333333,
              "#31688e"
             ],
             [
              0.4444444444444444,
              "#26828e"
             ],
             [
              0.5555555555555556,
              "#1f9e89"
             ],
             [
              0.6666666666666666,
              "#35b779"
             ],
             [
              0.7777777777777778,
              "#6ece58"
             ],
             [
              0.8888888888888888,
              "#b5de2b"
             ],
             [
              1,
              "#fde725"
             ]
            ],
            "type": "heatmapgl"
           }
          ],
          "histogram": [
           {
            "marker": {
             "line": {
              "color": "white",
              "width": 0.6
             }
            },
            "type": "histogram"
           }
          ],
          "histogram2d": [
           {
            "colorbar": {
             "outlinewidth": 1,
             "tickcolor": "rgb(36,36,36)",
             "ticks": "outside"
            },
            "colorscale": [
             [
              0,
              "#440154"
             ],
             [
              0.1111111111111111,
              "#482878"
             ],
             [
              0.2222222222222222,
              "#3e4989"
             ],
             [
              0.3333333333333333,
              "#31688e"
             ],
             [
              0.4444444444444444,
              "#26828e"
             ],
             [
              0.5555555555555556,
              "#1f9e89"
             ],
             [
              0.6666666666666666,
              "#35b779"
             ],
             [
              0.7777777777777778,
              "#6ece58"
             ],
             [
              0.8888888888888888,
              "#b5de2b"
             ],
             [
              1,
              "#fde725"
             ]
            ],
            "type": "histogram2d"
           }
          ],
          "histogram2dcontour": [
           {
            "colorbar": {
             "outlinewidth": 1,
             "tickcolor": "rgb(36,36,36)",
             "ticks": "outside"
            },
            "colorscale": [
             [
              0,
              "#440154"
             ],
             [
              0.1111111111111111,
              "#482878"
             ],
             [
              0.2222222222222222,
              "#3e4989"
             ],
             [
              0.3333333333333333,
              "#31688e"
             ],
             [
              0.4444444444444444,
              "#26828e"
             ],
             [
              0.5555555555555556,
              "#1f9e89"
             ],
             [
              0.6666666666666666,
              "#35b779"
             ],
             [
              0.7777777777777778,
              "#6ece58"
             ],
             [
              0.8888888888888888,
              "#b5de2b"
             ],
             [
              1,
              "#fde725"
             ]
            ],
            "type": "histogram2dcontour"
           }
          ],
          "mesh3d": [
           {
            "colorbar": {
             "outlinewidth": 1,
             "tickcolor": "rgb(36,36,36)",
             "ticks": "outside"
            },
            "type": "mesh3d"
           }
          ],
          "parcoords": [
           {
            "line": {
             "colorbar": {
              "outlinewidth": 1,
              "tickcolor": "rgb(36,36,36)",
              "ticks": "outside"
             }
            },
            "type": "parcoords"
           }
          ],
          "pie": [
           {
            "automargin": true,
            "type": "pie"
           }
          ],
          "scatter": [
           {
            "fillpattern": {
             "fillmode": "overlay",
             "size": 10,
             "solidity": 0.2
            },
            "type": "scatter"
           }
          ],
          "scatter3d": [
           {
            "line": {
             "colorbar": {
              "outlinewidth": 1,
              "tickcolor": "rgb(36,36,36)",
              "ticks": "outside"
             }
            },
            "marker": {
             "colorbar": {
              "outlinewidth": 1,
              "tickcolor": "rgb(36,36,36)",
              "ticks": "outside"
             }
            },
            "type": "scatter3d"
           }
          ],
          "scattercarpet": [
           {
            "marker": {
             "colorbar": {
              "outlinewidth": 1,
              "tickcolor": "rgb(36,36,36)",
              "ticks": "outside"
             }
            },
            "type": "scattercarpet"
           }
          ],
          "scattergeo": [
           {
            "marker": {
             "colorbar": {
              "outlinewidth": 1,
              "tickcolor": "rgb(36,36,36)",
              "ticks": "outside"
             }
            },
            "type": "scattergeo"
           }
          ],
          "scattergl": [
           {
            "marker": {
             "colorbar": {
              "outlinewidth": 1,
              "tickcolor": "rgb(36,36,36)",
              "ticks": "outside"
             }
            },
            "type": "scattergl"
           }
          ],
          "scattermapbox": [
           {
            "marker": {
             "colorbar": {
              "outlinewidth": 1,
              "tickcolor": "rgb(36,36,36)",
              "ticks": "outside"
             }
            },
            "type": "scattermapbox"
           }
          ],
          "scatterpolar": [
           {
            "marker": {
             "colorbar": {
              "outlinewidth": 1,
              "tickcolor": "rgb(36,36,36)",
              "ticks": "outside"
             }
            },
            "type": "scatterpolar"
           }
          ],
          "scatterpolargl": [
           {
            "marker": {
             "colorbar": {
              "outlinewidth": 1,
              "tickcolor": "rgb(36,36,36)",
              "ticks": "outside"
             }
            },
            "type": "scatterpolargl"
           }
          ],
          "scatterternary": [
           {
            "marker": {
             "colorbar": {
              "outlinewidth": 1,
              "tickcolor": "rgb(36,36,36)",
              "ticks": "outside"
             }
            },
            "type": "scatterternary"
           }
          ],
          "surface": [
           {
            "colorbar": {
             "outlinewidth": 1,
             "tickcolor": "rgb(36,36,36)",
             "ticks": "outside"
            },
            "colorscale": [
             [
              0,
              "#440154"
             ],
             [
              0.1111111111111111,
              "#482878"
             ],
             [
              0.2222222222222222,
              "#3e4989"
             ],
             [
              0.3333333333333333,
              "#31688e"
             ],
             [
              0.4444444444444444,
              "#26828e"
             ],
             [
              0.5555555555555556,
              "#1f9e89"
             ],
             [
              0.6666666666666666,
              "#35b779"
             ],
             [
              0.7777777777777778,
              "#6ece58"
             ],
             [
              0.8888888888888888,
              "#b5de2b"
             ],
             [
              1,
              "#fde725"
             ]
            ],
            "type": "surface"
           }
          ],
          "table": [
           {
            "cells": {
             "fill": {
              "color": "rgb(237,237,237)"
             },
             "line": {
              "color": "white"
             }
            },
            "header": {
             "fill": {
              "color": "rgb(217,217,217)"
             },
             "line": {
              "color": "white"
             }
            },
            "type": "table"
           }
          ]
         },
         "layout": {
          "annotationdefaults": {
           "arrowhead": 0,
           "arrowwidth": 1
          },
          "autotypenumbers": "strict",
          "coloraxis": {
           "colorbar": {
            "outlinewidth": 1,
            "tickcolor": "rgb(36,36,36)",
            "ticks": "outside"
           }
          },
          "colorscale": {
           "diverging": [
            [
             0,
             "rgb(103,0,31)"
            ],
            [
             0.1,
             "rgb(178,24,43)"
            ],
            [
             0.2,
             "rgb(214,96,77)"
            ],
            [
             0.3,
             "rgb(244,165,130)"
            ],
            [
             0.4,
             "rgb(253,219,199)"
            ],
            [
             0.5,
             "rgb(247,247,247)"
            ],
            [
             0.6,
             "rgb(209,229,240)"
            ],
            [
             0.7,
             "rgb(146,197,222)"
            ],
            [
             0.8,
             "rgb(67,147,195)"
            ],
            [
             0.9,
             "rgb(33,102,172)"
            ],
            [
             1,
             "rgb(5,48,97)"
            ]
           ],
           "sequential": [
            [
             0,
             "#440154"
            ],
            [
             0.1111111111111111,
             "#482878"
            ],
            [
             0.2222222222222222,
             "#3e4989"
            ],
            [
             0.3333333333333333,
             "#31688e"
            ],
            [
             0.4444444444444444,
             "#26828e"
            ],
            [
             0.5555555555555556,
             "#1f9e89"
            ],
            [
             0.6666666666666666,
             "#35b779"
            ],
            [
             0.7777777777777778,
             "#6ece58"
            ],
            [
             0.8888888888888888,
             "#b5de2b"
            ],
            [
             1,
             "#fde725"
            ]
           ],
           "sequentialminus": [
            [
             0,
             "#440154"
            ],
            [
             0.1111111111111111,
             "#482878"
            ],
            [
             0.2222222222222222,
             "#3e4989"
            ],
            [
             0.3333333333333333,
             "#31688e"
            ],
            [
             0.4444444444444444,
             "#26828e"
            ],
            [
             0.5555555555555556,
             "#1f9e89"
            ],
            [
             0.6666666666666666,
             "#35b779"
            ],
            [
             0.7777777777777778,
             "#6ece58"
            ],
            [
             0.8888888888888888,
             "#b5de2b"
            ],
            [
             1,
             "#fde725"
            ]
           ]
          },
          "colorway": [
           "#1F77B4",
           "#FF7F0E",
           "#2CA02C",
           "#D62728",
           "#9467BD",
           "#8C564B",
           "#E377C2",
           "#7F7F7F",
           "#BCBD22",
           "#17BECF"
          ],
          "font": {
           "color": "rgb(36,36,36)"
          },
          "geo": {
           "bgcolor": "white",
           "lakecolor": "white",
           "landcolor": "white",
           "showlakes": true,
           "showland": true,
           "subunitcolor": "white"
          },
          "hoverlabel": {
           "align": "left"
          },
          "hovermode": "closest",
          "mapbox": {
           "style": "light"
          },
          "paper_bgcolor": "white",
          "plot_bgcolor": "white",
          "polar": {
           "angularaxis": {
            "gridcolor": "rgb(232,232,232)",
            "linecolor": "rgb(36,36,36)",
            "showgrid": false,
            "showline": true,
            "ticks": "outside"
           },
           "bgcolor": "white",
           "radialaxis": {
            "gridcolor": "rgb(232,232,232)",
            "linecolor": "rgb(36,36,36)",
            "showgrid": false,
            "showline": true,
            "ticks": "outside"
           }
          },
          "scene": {
           "xaxis": {
            "backgroundcolor": "white",
            "gridcolor": "rgb(232,232,232)",
            "gridwidth": 2,
            "linecolor": "rgb(36,36,36)",
            "showbackground": true,
            "showgrid": false,
            "showline": true,
            "ticks": "outside",
            "zeroline": false,
            "zerolinecolor": "rgb(36,36,36)"
           },
           "yaxis": {
            "backgroundcolor": "white",
            "gridcolor": "rgb(232,232,232)",
            "gridwidth": 2,
            "linecolor": "rgb(36,36,36)",
            "showbackground": true,
            "showgrid": false,
            "showline": true,
            "ticks": "outside",
            "zeroline": false,
            "zerolinecolor": "rgb(36,36,36)"
           },
           "zaxis": {
            "backgroundcolor": "white",
            "gridcolor": "rgb(232,232,232)",
            "gridwidth": 2,
            "linecolor": "rgb(36,36,36)",
            "showbackground": true,
            "showgrid": false,
            "showline": true,
            "ticks": "outside",
            "zeroline": false,
            "zerolinecolor": "rgb(36,36,36)"
           }
          },
          "shapedefaults": {
           "fillcolor": "black",
           "line": {
            "width": 0
           },
           "opacity": 0.3
          },
          "ternary": {
           "aaxis": {
            "gridcolor": "rgb(232,232,232)",
            "linecolor": "rgb(36,36,36)",
            "showgrid": false,
            "showline": true,
            "ticks": "outside"
           },
           "baxis": {
            "gridcolor": "rgb(232,232,232)",
            "linecolor": "rgb(36,36,36)",
            "showgrid": false,
            "showline": true,
            "ticks": "outside"
           },
           "bgcolor": "white",
           "caxis": {
            "gridcolor": "rgb(232,232,232)",
            "linecolor": "rgb(36,36,36)",
            "showgrid": false,
            "showline": true,
            "ticks": "outside"
           }
          },
          "title": {
           "x": 0.05
          },
          "xaxis": {
           "automargin": true,
           "gridcolor": "rgb(232,232,232)",
           "linecolor": "rgb(36,36,36)",
           "showgrid": false,
           "showline": true,
           "ticks": "outside",
           "title": {
            "standoff": 15
           },
           "zeroline": false,
           "zerolinecolor": "rgb(36,36,36)"
          },
          "yaxis": {
           "automargin": true,
           "gridcolor": "rgb(232,232,232)",
           "linecolor": "rgb(36,36,36)",
           "showgrid": false,
           "showline": true,
           "ticks": "outside",
           "title": {
            "standoff": 15
           },
           "zeroline": false,
           "zerolinecolor": "rgb(36,36,36)"
          }
         }
        },
        "width": 900,
        "xaxis": {
         "showline": true,
         "title": {
          "text": "Balanced factor"
         }
        },
        "yaxis": {
         "color": "#ef857e",
         "title": {
          "text": "Carbon emission(kg)"
         }
        },
        "yaxis2": {
         "anchor": "x",
         "color": "#8cc1e6",
         "overlaying": "y",
         "range": [
          0,
          101
         ],
         "side": "right",
         "title": {
          "text": "Energy loss (%)"
         }
        }
       }
      }
     },
     "metadata": {},
     "output_type": "display_data"
    }
   ],
   "source": [
    "fig = go.Figure()\n",
    "factors = [0.8,0.9,1,1.1,1.2,1.3,1.4,1.5,1.6,1.7,1.8,1.9,2.0]\n",
    "n = len(factors)\n",
    "\n",
    "\n",
    "fig.add_trace(go.Scatter(x=factors, y=mpc_carbon, name='Carbon emission (kg)', line=dict(color='#ef857e', width=3)))\n",
    "fig.add_trace(go.Scatter(x=factors, y=mpc_delivery, yaxis='y2',name='Delivery energy (%)', line=dict(color='#8cc1e6', width=3)))\n",
    "#fig.add_trace(go.Scatter(x=[factors[2]], y=[mpc_carbon[2]],mode='markers',marker_symbol='star',showlegend = False,marker_color=\"#ef857e\", marker_size=15))\n",
    "#fig.add_trace(go.Scatter(x=[factors[2]], y=[mpc_delivery[2]],yaxis='y2',mode='markers',marker_color=\"#8cc1e6\",marker_symbol='star',showlegend = False,marker_size=15))\n",
    "\n",
    "fig.add_trace(go.Scatter(x=factors, y=[edf_carbon for _ in range(n)], name='Baseline Carbon emission (kg)', line=dict(color='#ef857e', width=3, dash='dash')))\n",
    "fig.add_trace(go.Scatter(x=factors, y=[edf_delivery for _ in range(n)], yaxis='y2',name='Baseline Delivery energy (%)', line=dict(color='#8cc1e6', width=3, dash='dash')))\n",
    "\n",
    "fig.update(layout={\n",
    "    'xaxis':{'title':'Balanced factor', 'showline':True},\n",
    "    'yaxis':{'title': 'Carbon emission(kg)', 'color':'#ef857e'},\n",
    "    'yaxis2':{'title': 'Energy loss (%)','range':[0,101],'anchor':'x','overlaying':'y','side':'right','color':'#8cc1e6'},\n",
    "    \"font\": {\"size\": 20,},\n",
    "    'template':'simple_white',\n",
    "    'legend':{'yanchor':'bottom','y':1.1,'xanchor':'left','x':0.0,'orientation':'h'},\n",
    "    'width':900,\n",
    "    'height':500,\n",
    "    #  'xaxis':{ 'showgrid': False},\n",
    "    # 'yaxis': {   'showgrid': True} \n",
    "})\n",
    "fig.show()"
   ]
  },
  {
   "cell_type": "code",
   "execution_count": null,
   "metadata": {},
   "outputs": [],
   "source": [
    "fig.write_image(\"image/different_factor_3.pdf\")"
   ]
  },
  {
   "cell_type": "code",
   "execution_count": null,
   "metadata": {},
   "outputs": [],
   "source": [
    "fig = go.Figure()\n",
    "factors = ['1','10','100','1000']\n",
    "mpc_mean = [np.mean(d1[d1['factor']==factor]['percents']) for factor in [1,10,100,1000]]\n",
    "mpc_20 = [np.quantile(d1[d1['factor']==factor]['percents'],0.2) for factor in [1,10,100,1000]]\n",
    "mpc_80 = [np.quantile(d1[d1['factor']==factor]['percents'],0.8) for factor in [1,10,100,1000]]\n",
    "edf_20 = np.quantile(d2['percents'],0.2)\n",
    "edf_80 = np.quantile(d2['percents'],0.8)\n",
    "edf_mean = np.mean(d2['percents'])\n",
    "fig.add_trace(go.Scatter(x=factors, y=mpc_mean, name='MPC(average)', line=dict(color='firebrick', width=4)))\n",
    "fig.add_trace(go.Scatter(x=factors, y=mpc_20, name='MPC(20%)', line=dict(color='firebrick', width=5,dash='dash')))\n",
    "fig.add_trace(go.Scatter(x=factors, y=mpc_80, name='MPC(80%)', line=dict(color='firebrick', width=4,dash='dash')))\n",
    "\n",
    "fig.add_trace(go.Scatter(x=factors, y=[edf_mean for _ in range(4)], name='EDF(average)', line=dict(color='royalblue', width=4)))\n",
    "fig.add_trace(go.Scatter(x=factors, y=[edf_20 for _ in range(4)], name='EDF(20%)', line=dict(color='royalblue', width=4,dash='dash')))\n",
    "fig.add_trace(go.Scatter(x=factors, y=[edf_80 for _ in range(4)], name='EDF(80%)', line=dict(color='royalblue', width=4,dash='dash')))\n",
    "\n",
    "fig.update(layout={\n",
    "    'xaxis':{'title':'Balanced factor', 'showline':True},\n",
    "    'yaxis':{'title': 'Energy delivery (percents)','range':[0,100]},\n",
    "    \"font\": {\"size\": 20},\n",
    "    'template':'plotly_white',\n",
    "    'legend':{'yanchor':'bottom','y':1,'xanchor':'left','x':0.0,'orientation':'h'},\n",
    "     'width':900,\n",
    "    'height':500\n",
    "})\n",
    "fig.show()"
   ]
  },
  {
   "cell_type": "code",
   "execution_count": null,
   "metadata": {},
   "outputs": [],
   "source": [
    "num_of_vehicles = np.unique(d1['num_vehicle'])\n",
    "num_of_vehicles"
   ]
  },
  {
   "cell_type": "markdown",
   "metadata": {},
   "source": [
    "# Plot $\\lambda$ with different arrived vehicles"
   ]
  },
  {
   "cell_type": "code",
   "execution_count": null,
   "metadata": {},
   "outputs": [],
   "source": [
    "d1 = pd.read_csv('MPC_offline.csv', index_col=0)\n",
    "d11 = d1[d1['factor']==1]\n",
    "d12 = d1[d1['factor']==1.5]\n",
    "d13 = d1[d1['factor']==5]\n",
    "d2 = pd.read_csv('EDF.csv', index_col=0)\n",
    "num_of_vehicles = np.unique(d1['num_vehicle'])\n",
    "offline_c = []\n",
    "offline_e = []\n",
    "offline_c2 = []\n",
    "offline_e2 = []\n",
    "offline_c3 = []\n",
    "offline_e3 = []\n",
    "edf_c = []\n",
    "edf_e = []\n",
    "for v in num_of_vehicles[::2]:\n",
    "    tmpd1 = d11[d11['num_vehicle']==v]\n",
    "    tmpd12 = d12[d12['num_vehicle']==v]\n",
    "    tmpd13 = d13[d13['num_vehicle']==v]\n",
    "    tmpd2 = d2[d2['num_vehicle']==v]\n",
    "    offline_c.append(np.mean(tmpd1['carbon_emission(kg)']))\n",
    "    edf_c.append(np.mean(tmpd2['carbon_emission(kg)']))\n",
    "    offline_e += [np.sum(tmpd1['delivery']) / np.sum(tmpd1['required']) * 100]\n",
    "    edf_e += [np.sum(tmpd2['delivery']) / np.sum(tmpd2['required']) * 100]\n",
    "    offline_c2.append(np.mean(tmpd12['carbon_emission(kg)']))\n",
    "    offline_e2 += [np.sum(tmpd12['delivery']) / np.sum(tmpd12['required']) * 100]\n",
    "    offline_c3.append(np.mean(tmpd13['carbon_emission(kg)']))\n",
    "    offline_e3 += [np.sum(tmpd13['delivery']) / np.sum(tmpd13['required']) * 100]"
   ]
  },
  {
   "cell_type": "code",
   "execution_count": null,
   "metadata": {},
   "outputs": [],
   "source": [
    "offline_e2"
   ]
  },
  {
   "cell_type": "code",
   "execution_count": null,
   "metadata": {},
   "outputs": [],
   "source": []
  },
  {
   "cell_type": "code",
   "execution_count": 132,
   "metadata": {},
   "outputs": [
    {
     "data": {
      "application/vnd.plotly.v1+json": {
       "config": {
        "plotlyServerURL": "https://plot.ly"
       },
       "data": [
        {
         "line": {
          "color": "#ef857e",
          "width": 2
         },
         "name": "Carbon aware: Carbon emission(kg)",
         "type": "scatter",
         "x": [
          1,
          3,
          5,
          7,
          12,
          14,
          16,
          18,
          20,
          22,
          24,
          26,
          28,
          30,
          32,
          34,
          36,
          38,
          41,
          43
         ],
         "xaxis": "x",
         "y": [
          2.71797119880688,
          8.514614475648823,
          11.933271417608234,
          14.622076595031398,
          41.64065307265119,
          33.173674559011566,
          30.841545141716356,
          29.58213287917444,
          31.792692840009014,
          29.693303758114624,
          40.043605820087066,
          30.68714970556647,
          24.93512178896725,
          21.17338884855213,
          19.91664922152577,
          15.812278377685459,
          11.089819923576544,
          15.046319017128903,
          13.16736122797679,
          7.386397790554264
         ],
         "yaxis": "y"
        },
        {
         "line": {
          "color": "#8cc1e6",
          "width": 2
         },
         "name": "Carbon aware: Energy delivery(%)",
         "type": "scatter",
         "x": [
          1,
          3,
          5,
          7,
          12,
          14,
          16,
          18,
          20,
          22,
          24,
          26,
          28,
          30,
          32,
          34,
          36,
          38,
          41,
          43
         ],
         "xaxis": "x",
         "y": [
          100,
          100,
          100,
          100,
          100,
          74.33104829392282,
          64.94695085651973,
          58.844363827299,
          73.99485269699699,
          61.739346023525535,
          82.4961506774499,
          49.85964882160807,
          47.33426919999285,
          29.682854958739785,
          30.326578792051944,
          19.38363785429843,
          11.52124968730022,
          17.814516276434354,
          15.548790799932352,
          6.614667231877915
         ],
         "yaxis": "y2"
        },
        {
         "line": {
          "color": "#ef857e",
          "dash": "dash",
          "width": 2
         },
         "name": "Baseline: Carbon emission(kg)",
         "type": "scatter",
         "x": [
          1,
          3,
          5,
          7,
          12,
          14,
          16,
          18,
          20,
          22,
          24,
          26,
          28,
          30,
          32,
          34,
          36,
          38,
          41,
          43
         ],
         "xaxis": "x",
         "y": [
          2.736053108288535,
          8.603031531066849,
          12.027656513786413,
          14.781234674685754,
          42.34333787903147,
          51.50656301625929,
          56.566153750443455,
          61.741732183362735,
          53.500714510044894,
          60.42464370733655,
          54.28506414529814,
          76.23170682545246,
          76.8307578400538,
          92.18615835803992,
          91.98179734834335,
          104.42139982662249,
          115.79746815641346,
          111.64473104757872,
          124.23209375012937,
          131.7536185842738
         ],
         "yaxis": "y"
        },
        {
         "line": {
          "color": "#8cc1e6",
          "dash": "dash",
          "width": 2
         },
         "name": "Baseline: Energy delivery(%)",
         "type": "scatter",
         "x": [
          1,
          3,
          5,
          7,
          12,
          14,
          16,
          18,
          20,
          22,
          24,
          26,
          28,
          30,
          32,
          34,
          36,
          38,
          41,
          43
         ],
         "xaxis": "x",
         "y": [
          100,
          100,
          100,
          100,
          100,
          100,
          97.66105297125276,
          99.05845008234088,
          99.22968357132692,
          99.93782146890877,
          99.30881903709852,
          99.27056016000891,
          98.72903483290412,
          99.50703351126735,
          99.30973957308677,
          99.59504567814477,
          99.44982210856936,
          99.45166419915556,
          100,
          99.81432810512929
         ],
         "yaxis": "y2"
        },
        {
         "line": {
          "color": "#ef857e",
          "width": 2
         },
         "showlegend": false,
         "type": "scatter",
         "x": [
          1,
          3,
          5,
          7,
          12,
          14,
          16,
          18,
          20,
          22,
          24,
          26,
          28,
          30,
          32,
          34,
          36,
          38,
          41,
          43
         ],
         "xaxis": "x2",
         "y": [
          2.7179711988606634,
          8.514614475652845,
          11.93327141760966,
          14.62207659503177,
          41.64065307269087,
          49.00178443211516,
          53.28321652765227,
          58.356184807272356,
          49.41674311251432,
          58.050948352194744,
          50.98016675097126,
          72.80618760519923,
          71.60232744907493,
          85.1626664757465,
          83.91543122334166,
          79.6114267490693,
          80.33740791584826,
          78.85831177008222,
          66.4922103204539,
          58.517198528876115
         ],
         "yaxis": "y3"
        },
        {
         "line": {
          "color": "#8cc1e6",
          "width": 2
         },
         "showlegend": false,
         "type": "scatter",
         "x": [
          1,
          3,
          5,
          7,
          12,
          14,
          16,
          18,
          20,
          22,
          24,
          26,
          28,
          30,
          32,
          34,
          36,
          38,
          41,
          43
         ],
         "xaxis": "x2",
         "y": [
          100,
          100,
          100,
          100,
          100,
          100,
          97.66105297125276,
          99.05845008234088,
          99.22968357132692,
          99.93782146890877,
          98.54543434860823,
          99.33279539201759,
          96.46170922080162,
          96.08272951199912,
          95.08133730080665,
          81.58028812368235,
          73.93143536148095,
          76.99426684457117,
          61.34844128755849,
          49.17507418397626
         ],
         "yaxis": "y4"
        },
        {
         "line": {
          "color": "#ef857e",
          "dash": "dash",
          "width": 2
         },
         "showlegend": false,
         "type": "scatter",
         "x": [
          1,
          3,
          5,
          7,
          12,
          14,
          16,
          18,
          20,
          22,
          24,
          26,
          28,
          30,
          32,
          34,
          36,
          38,
          41,
          43
         ],
         "xaxis": "x2",
         "y": [
          2.736053108288535,
          8.603031531066849,
          12.027656513786413,
          14.781234674685754,
          42.34333787903147,
          51.50656301625929,
          56.566153750443455,
          61.741732183362735,
          53.500714510044894,
          60.42464370733655,
          54.28506414529814,
          76.23170682545246,
          76.8307578400538,
          92.18615835803992,
          91.98179734834335,
          104.42139982662249,
          115.79746815641346,
          111.64473104757872,
          124.23209375012937,
          131.7536185842738
         ],
         "yaxis": "y3"
        },
        {
         "line": {
          "color": "#8cc1e6",
          "dash": "dash",
          "width": 2
         },
         "showlegend": false,
         "type": "scatter",
         "x": [
          1,
          3,
          5,
          7,
          12,
          14,
          16,
          18,
          20,
          22,
          24,
          26,
          28,
          30,
          32,
          34,
          36,
          38,
          41,
          43
         ],
         "xaxis": "x2",
         "y": [
          100,
          100,
          100,
          100,
          100,
          100,
          97.66105297125276,
          99.05845008234088,
          99.22968357132692,
          99.93782146890877,
          99.30881903709852,
          99.27056016000891,
          98.72903483290412,
          99.50703351126735,
          99.30973957308677,
          99.59504567814477,
          99.44982210856936,
          99.45166419915556,
          100,
          99.81432810512929
         ],
         "yaxis": "y4"
        }
       ],
       "layout": {
        "annotations": [
         {
          "font": {
           "size": 16
          },
          "showarrow": false,
          "text": "factor=1",
          "x": 0.185,
          "xanchor": "center",
          "xref": "paper",
          "y": 1,
          "yanchor": "bottom",
          "yref": "paper"
         },
         {
          "font": {
           "size": 16
          },
          "showarrow": false,
          "text": "factor=1.5",
          "x": 0.7550000000000001,
          "xanchor": "center",
          "xref": "paper",
          "y": 1,
          "yanchor": "bottom",
          "yref": "paper"
         }
        ],
        "font": {
         "size": 20
        },
        "height": 500,
        "legend": {
         "orientation": "h",
         "x": 0,
         "xanchor": "left",
         "y": 1.2,
         "yanchor": "bottom"
        },
        "shapes": [
         {
          "fillcolor": "#a8ecd9",
          "layer": "below",
          "line": {
           "width": 0
          },
          "opacity": 0.5,
          "type": "rect",
          "x0": 0,
          "x1": 20,
          "xref": "x",
          "y0": 0,
          "y1": 1,
          "yref": "y domain"
         },
         {
          "fillcolor": "#a8ecd9",
          "layer": "below",
          "line": {
           "width": 0
          },
          "opacity": 0.5,
          "type": "rect",
          "x0": 14,
          "x1": 36,
          "xref": "x2",
          "y0": 0,
          "y1": 1,
          "yref": "y3 domain"
         }
        ],
        "template": {
         "data": {
          "bar": [
           {
            "error_x": {
             "color": "rgb(36,36,36)"
            },
            "error_y": {
             "color": "rgb(36,36,36)"
            },
            "marker": {
             "line": {
              "color": "white",
              "width": 0.5
             },
             "pattern": {
              "fillmode": "overlay",
              "size": 10,
              "solidity": 0.2
             }
            },
            "type": "bar"
           }
          ],
          "barpolar": [
           {
            "marker": {
             "line": {
              "color": "white",
              "width": 0.5
             },
             "pattern": {
              "fillmode": "overlay",
              "size": 10,
              "solidity": 0.2
             }
            },
            "type": "barpolar"
           }
          ],
          "carpet": [
           {
            "aaxis": {
             "endlinecolor": "rgb(36,36,36)",
             "gridcolor": "white",
             "linecolor": "white",
             "minorgridcolor": "white",
             "startlinecolor": "rgb(36,36,36)"
            },
            "baxis": {
             "endlinecolor": "rgb(36,36,36)",
             "gridcolor": "white",
             "linecolor": "white",
             "minorgridcolor": "white",
             "startlinecolor": "rgb(36,36,36)"
            },
            "type": "carpet"
           }
          ],
          "choropleth": [
           {
            "colorbar": {
             "outlinewidth": 1,
             "tickcolor": "rgb(36,36,36)",
             "ticks": "outside"
            },
            "type": "choropleth"
           }
          ],
          "contour": [
           {
            "colorbar": {
             "outlinewidth": 1,
             "tickcolor": "rgb(36,36,36)",
             "ticks": "outside"
            },
            "colorscale": [
             [
              0,
              "#440154"
             ],
             [
              0.1111111111111111,
              "#482878"
             ],
             [
              0.2222222222222222,
              "#3e4989"
             ],
             [
              0.3333333333333333,
              "#31688e"
             ],
             [
              0.4444444444444444,
              "#26828e"
             ],
             [
              0.5555555555555556,
              "#1f9e89"
             ],
             [
              0.6666666666666666,
              "#35b779"
             ],
             [
              0.7777777777777778,
              "#6ece58"
             ],
             [
              0.8888888888888888,
              "#b5de2b"
             ],
             [
              1,
              "#fde725"
             ]
            ],
            "type": "contour"
           }
          ],
          "contourcarpet": [
           {
            "colorbar": {
             "outlinewidth": 1,
             "tickcolor": "rgb(36,36,36)",
             "ticks": "outside"
            },
            "type": "contourcarpet"
           }
          ],
          "heatmap": [
           {
            "colorbar": {
             "outlinewidth": 1,
             "tickcolor": "rgb(36,36,36)",
             "ticks": "outside"
            },
            "colorscale": [
             [
              0,
              "#440154"
             ],
             [
              0.1111111111111111,
              "#482878"
             ],
             [
              0.2222222222222222,
              "#3e4989"
             ],
             [
              0.3333333333333333,
              "#31688e"
             ],
             [
              0.4444444444444444,
              "#26828e"
             ],
             [
              0.5555555555555556,
              "#1f9e89"
             ],
             [
              0.6666666666666666,
              "#35b779"
             ],
             [
              0.7777777777777778,
              "#6ece58"
             ],
             [
              0.8888888888888888,
              "#b5de2b"
             ],
             [
              1,
              "#fde725"
             ]
            ],
            "type": "heatmap"
           }
          ],
          "heatmapgl": [
           {
            "colorbar": {
             "outlinewidth": 1,
             "tickcolor": "rgb(36,36,36)",
             "ticks": "outside"
            },
            "colorscale": [
             [
              0,
              "#440154"
             ],
             [
              0.1111111111111111,
              "#482878"
             ],
             [
              0.2222222222222222,
              "#3e4989"
             ],
             [
              0.3333333333333333,
              "#31688e"
             ],
             [
              0.4444444444444444,
              "#26828e"
             ],
             [
              0.5555555555555556,
              "#1f9e89"
             ],
             [
              0.6666666666666666,
              "#35b779"
             ],
             [
              0.7777777777777778,
              "#6ece58"
             ],
             [
              0.8888888888888888,
              "#b5de2b"
             ],
             [
              1,
              "#fde725"
             ]
            ],
            "type": "heatmapgl"
           }
          ],
          "histogram": [
           {
            "marker": {
             "line": {
              "color": "white",
              "width": 0.6
             }
            },
            "type": "histogram"
           }
          ],
          "histogram2d": [
           {
            "colorbar": {
             "outlinewidth": 1,
             "tickcolor": "rgb(36,36,36)",
             "ticks": "outside"
            },
            "colorscale": [
             [
              0,
              "#440154"
             ],
             [
              0.1111111111111111,
              "#482878"
             ],
             [
              0.2222222222222222,
              "#3e4989"
             ],
             [
              0.3333333333333333,
              "#31688e"
             ],
             [
              0.4444444444444444,
              "#26828e"
             ],
             [
              0.5555555555555556,
              "#1f9e89"
             ],
             [
              0.6666666666666666,
              "#35b779"
             ],
             [
              0.7777777777777778,
              "#6ece58"
             ],
             [
              0.8888888888888888,
              "#b5de2b"
             ],
             [
              1,
              "#fde725"
             ]
            ],
            "type": "histogram2d"
           }
          ],
          "histogram2dcontour": [
           {
            "colorbar": {
             "outlinewidth": 1,
             "tickcolor": "rgb(36,36,36)",
             "ticks": "outside"
            },
            "colorscale": [
             [
              0,
              "#440154"
             ],
             [
              0.1111111111111111,
              "#482878"
             ],
             [
              0.2222222222222222,
              "#3e4989"
             ],
             [
              0.3333333333333333,
              "#31688e"
             ],
             [
              0.4444444444444444,
              "#26828e"
             ],
             [
              0.5555555555555556,
              "#1f9e89"
             ],
             [
              0.6666666666666666,
              "#35b779"
             ],
             [
              0.7777777777777778,
              "#6ece58"
             ],
             [
              0.8888888888888888,
              "#b5de2b"
             ],
             [
              1,
              "#fde725"
             ]
            ],
            "type": "histogram2dcontour"
           }
          ],
          "mesh3d": [
           {
            "colorbar": {
             "outlinewidth": 1,
             "tickcolor": "rgb(36,36,36)",
             "ticks": "outside"
            },
            "type": "mesh3d"
           }
          ],
          "parcoords": [
           {
            "line": {
             "colorbar": {
              "outlinewidth": 1,
              "tickcolor": "rgb(36,36,36)",
              "ticks": "outside"
             }
            },
            "type": "parcoords"
           }
          ],
          "pie": [
           {
            "automargin": true,
            "type": "pie"
           }
          ],
          "scatter": [
           {
            "fillpattern": {
             "fillmode": "overlay",
             "size": 10,
             "solidity": 0.2
            },
            "type": "scatter"
           }
          ],
          "scatter3d": [
           {
            "line": {
             "colorbar": {
              "outlinewidth": 1,
              "tickcolor": "rgb(36,36,36)",
              "ticks": "outside"
             }
            },
            "marker": {
             "colorbar": {
              "outlinewidth": 1,
              "tickcolor": "rgb(36,36,36)",
              "ticks": "outside"
             }
            },
            "type": "scatter3d"
           }
          ],
          "scattercarpet": [
           {
            "marker": {
             "colorbar": {
              "outlinewidth": 1,
              "tickcolor": "rgb(36,36,36)",
              "ticks": "outside"
             }
            },
            "type": "scattercarpet"
           }
          ],
          "scattergeo": [
           {
            "marker": {
             "colorbar": {
              "outlinewidth": 1,
              "tickcolor": "rgb(36,36,36)",
              "ticks": "outside"
             }
            },
            "type": "scattergeo"
           }
          ],
          "scattergl": [
           {
            "marker": {
             "colorbar": {
              "outlinewidth": 1,
              "tickcolor": "rgb(36,36,36)",
              "ticks": "outside"
             }
            },
            "type": "scattergl"
           }
          ],
          "scattermapbox": [
           {
            "marker": {
             "colorbar": {
              "outlinewidth": 1,
              "tickcolor": "rgb(36,36,36)",
              "ticks": "outside"
             }
            },
            "type": "scattermapbox"
           }
          ],
          "scatterpolar": [
           {
            "marker": {
             "colorbar": {
              "outlinewidth": 1,
              "tickcolor": "rgb(36,36,36)",
              "ticks": "outside"
             }
            },
            "type": "scatterpolar"
           }
          ],
          "scatterpolargl": [
           {
            "marker": {
             "colorbar": {
              "outlinewidth": 1,
              "tickcolor": "rgb(36,36,36)",
              "ticks": "outside"
             }
            },
            "type": "scatterpolargl"
           }
          ],
          "scatterternary": [
           {
            "marker": {
             "colorbar": {
              "outlinewidth": 1,
              "tickcolor": "rgb(36,36,36)",
              "ticks": "outside"
             }
            },
            "type": "scatterternary"
           }
          ],
          "surface": [
           {
            "colorbar": {
             "outlinewidth": 1,
             "tickcolor": "rgb(36,36,36)",
             "ticks": "outside"
            },
            "colorscale": [
             [
              0,
              "#440154"
             ],
             [
              0.1111111111111111,
              "#482878"
             ],
             [
              0.2222222222222222,
              "#3e4989"
             ],
             [
              0.3333333333333333,
              "#31688e"
             ],
             [
              0.4444444444444444,
              "#26828e"
             ],
             [
              0.5555555555555556,
              "#1f9e89"
             ],
             [
              0.6666666666666666,
              "#35b779"
             ],
             [
              0.7777777777777778,
              "#6ece58"
             ],
             [
              0.8888888888888888,
              "#b5de2b"
             ],
             [
              1,
              "#fde725"
             ]
            ],
            "type": "surface"
           }
          ],
          "table": [
           {
            "cells": {
             "fill": {
              "color": "rgb(237,237,237)"
             },
             "line": {
              "color": "white"
             }
            },
            "header": {
             "fill": {
              "color": "rgb(217,217,217)"
             },
             "line": {
              "color": "white"
             }
            },
            "type": "table"
           }
          ]
         },
         "layout": {
          "annotationdefaults": {
           "arrowhead": 0,
           "arrowwidth": 1
          },
          "autotypenumbers": "strict",
          "coloraxis": {
           "colorbar": {
            "outlinewidth": 1,
            "tickcolor": "rgb(36,36,36)",
            "ticks": "outside"
           }
          },
          "colorscale": {
           "diverging": [
            [
             0,
             "rgb(103,0,31)"
            ],
            [
             0.1,
             "rgb(178,24,43)"
            ],
            [
             0.2,
             "rgb(214,96,77)"
            ],
            [
             0.3,
             "rgb(244,165,130)"
            ],
            [
             0.4,
             "rgb(253,219,199)"
            ],
            [
             0.5,
             "rgb(247,247,247)"
            ],
            [
             0.6,
             "rgb(209,229,240)"
            ],
            [
             0.7,
             "rgb(146,197,222)"
            ],
            [
             0.8,
             "rgb(67,147,195)"
            ],
            [
             0.9,
             "rgb(33,102,172)"
            ],
            [
             1,
             "rgb(5,48,97)"
            ]
           ],
           "sequential": [
            [
             0,
             "#440154"
            ],
            [
             0.1111111111111111,
             "#482878"
            ],
            [
             0.2222222222222222,
             "#3e4989"
            ],
            [
             0.3333333333333333,
             "#31688e"
            ],
            [
             0.4444444444444444,
             "#26828e"
            ],
            [
             0.5555555555555556,
             "#1f9e89"
            ],
            [
             0.6666666666666666,
             "#35b779"
            ],
            [
             0.7777777777777778,
             "#6ece58"
            ],
            [
             0.8888888888888888,
             "#b5de2b"
            ],
            [
             1,
             "#fde725"
            ]
           ],
           "sequentialminus": [
            [
             0,
             "#440154"
            ],
            [
             0.1111111111111111,
             "#482878"
            ],
            [
             0.2222222222222222,
             "#3e4989"
            ],
            [
             0.3333333333333333,
             "#31688e"
            ],
            [
             0.4444444444444444,
             "#26828e"
            ],
            [
             0.5555555555555556,
             "#1f9e89"
            ],
            [
             0.6666666666666666,
             "#35b779"
            ],
            [
             0.7777777777777778,
             "#6ece58"
            ],
            [
             0.8888888888888888,
             "#b5de2b"
            ],
            [
             1,
             "#fde725"
            ]
           ]
          },
          "colorway": [
           "#1F77B4",
           "#FF7F0E",
           "#2CA02C",
           "#D62728",
           "#9467BD",
           "#8C564B",
           "#E377C2",
           "#7F7F7F",
           "#BCBD22",
           "#17BECF"
          ],
          "font": {
           "color": "rgb(36,36,36)"
          },
          "geo": {
           "bgcolor": "white",
           "lakecolor": "white",
           "landcolor": "white",
           "showlakes": true,
           "showland": true,
           "subunitcolor": "white"
          },
          "hoverlabel": {
           "align": "left"
          },
          "hovermode": "closest",
          "mapbox": {
           "style": "light"
          },
          "paper_bgcolor": "white",
          "plot_bgcolor": "white",
          "polar": {
           "angularaxis": {
            "gridcolor": "rgb(232,232,232)",
            "linecolor": "rgb(36,36,36)",
            "showgrid": false,
            "showline": true,
            "ticks": "outside"
           },
           "bgcolor": "white",
           "radialaxis": {
            "gridcolor": "rgb(232,232,232)",
            "linecolor": "rgb(36,36,36)",
            "showgrid": false,
            "showline": true,
            "ticks": "outside"
           }
          },
          "scene": {
           "xaxis": {
            "backgroundcolor": "white",
            "gridcolor": "rgb(232,232,232)",
            "gridwidth": 2,
            "linecolor": "rgb(36,36,36)",
            "showbackground": true,
            "showgrid": false,
            "showline": true,
            "ticks": "outside",
            "zeroline": false,
            "zerolinecolor": "rgb(36,36,36)"
           },
           "yaxis": {
            "backgroundcolor": "white",
            "gridcolor": "rgb(232,232,232)",
            "gridwidth": 2,
            "linecolor": "rgb(36,36,36)",
            "showbackground": true,
            "showgrid": false,
            "showline": true,
            "ticks": "outside",
            "zeroline": false,
            "zerolinecolor": "rgb(36,36,36)"
           },
           "zaxis": {
            "backgroundcolor": "white",
            "gridcolor": "rgb(232,232,232)",
            "gridwidth": 2,
            "linecolor": "rgb(36,36,36)",
            "showbackground": true,
            "showgrid": false,
            "showline": true,
            "ticks": "outside",
            "zeroline": false,
            "zerolinecolor": "rgb(36,36,36)"
           }
          },
          "shapedefaults": {
           "fillcolor": "black",
           "line": {
            "width": 0
           },
           "opacity": 0.3
          },
          "ternary": {
           "aaxis": {
            "gridcolor": "rgb(232,232,232)",
            "linecolor": "rgb(36,36,36)",
            "showgrid": false,
            "showline": true,
            "ticks": "outside"
           },
           "baxis": {
            "gridcolor": "rgb(232,232,232)",
            "linecolor": "rgb(36,36,36)",
            "showgrid": false,
            "showline": true,
            "ticks": "outside"
           },
           "bgcolor": "white",
           "caxis": {
            "gridcolor": "rgb(232,232,232)",
            "linecolor": "rgb(36,36,36)",
            "showgrid": false,
            "showline": true,
            "ticks": "outside"
           }
          },
          "title": {
           "x": 0.05
          },
          "xaxis": {
           "automargin": true,
           "gridcolor": "rgb(232,232,232)",
           "linecolor": "rgb(36,36,36)",
           "showgrid": false,
           "showline": true,
           "ticks": "outside",
           "title": {
            "standoff": 15
           },
           "zeroline": false,
           "zerolinecolor": "rgb(36,36,36)"
          },
          "yaxis": {
           "automargin": true,
           "gridcolor": "rgb(232,232,232)",
           "linecolor": "rgb(36,36,36)",
           "showgrid": false,
           "showline": true,
           "ticks": "outside",
           "title": {
            "standoff": 15
           },
           "zeroline": false,
           "zerolinecolor": "rgb(36,36,36)"
          }
         }
        },
        "width": 1000,
        "xaxis": {
         "anchor": "y",
         "domain": [
          0,
          0.37
         ],
         "showline": true,
         "title": {
          "text": "Num of vehicles arrived"
         }
        },
        "xaxis2": {
         "anchor": "y3",
         "domain": [
          0.5700000000000001,
          0.9400000000000001
         ]
        },
        "yaxis": {
         "anchor": "x",
         "domain": [
          0,
          1
         ],
         "title": {
          "text": "Carbon emission(kg)"
         }
        },
        "yaxis2": {
         "anchor": "x",
         "overlaying": "y",
         "range": [
          0,
          101
         ],
         "side": "right",
         "title": {
          "text": "Energy delivered  (%)"
         }
        },
        "yaxis3": {
         "anchor": "x2",
         "domain": [
          0,
          1
         ]
        },
        "yaxis4": {
         "anchor": "x2",
         "overlaying": "y3",
         "range": [
          1,
          101
         ],
         "side": "right"
        },
        "yaxis6": {
         "range": [
          1,
          101
         ]
        }
       }
      }
     },
     "metadata": {},
     "output_type": "display_data"
    }
   ],
   "source": [
    "from plotly.subplots import make_subplots\n",
    "x = ['carbon-aware','baseline']\n",
    "fig = make_subplots(rows=1, cols=2, subplot_titles=(\"factor=1\",\"factor=1.5\",\"factor=5\"),specs=[[{\"secondary_y\": True}, {\"secondary_y\": True}]])\n",
    "\n",
    "x = num_of_vehicles[::2]\n",
    "#fig.add_trace(go.Scatter(x=x, y=offline_c, name='factor=1', line=dict(color='#ef857e', width=2)))\n",
    "fig.add_trace(go.Scatter(x=x[:20], y=offline_c[:20], name='Carbon aware: Carbon emission(kg)', line=dict(color='#ef857e', width=2)),row=1,col=1)\n",
    "fig.add_trace(go.Scatter(x=x[:20], y=offline_e[:20], name='Carbon aware: Energy delivery(%)', line=dict(color='#8cc1e6', width=2)),row=1,col=1,secondary_y=True)\n",
    "\n",
    "fig.add_trace(go.Scatter(x=x[:20], y=edf_c[:20], name='Baseline: Carbon emission(kg)', line=dict(color='#ef857e', width=2, dash='dash')),row=1,col=1)\n",
    "fig.add_trace(go.Scatter(x=x[:20], y=edf_e[:20], yaxis='y2',name='Baseline: Energy delivery(%)', line=dict(color='#8cc1e6', width=2,dash='dash')),row=1,col=1,secondary_y=True)\n",
    "\n",
    "fig.add_trace(go.Scatter(x=x, y=offline_c2, showlegend=False, line=dict(color='#ef857e', width=2)),row=1,col=2)\n",
    "fig.add_trace(go.Scatter(x=x, y=offline_e2, showlegend=False, line=dict(color='#8cc1e6', width=2)),row=1,col=2,secondary_y=True)\n",
    "\n",
    "fig.add_trace(go.Scatter(x=x, y=edf_c, showlegend=False, line=dict(color='#ef857e', width=2, dash='dash')),row=1,col=2)\n",
    "fig.add_trace(go.Scatter(x=x, y=edf_e, yaxis='y2',showlegend=False, line=dict(color='#8cc1e6', width=2,dash='dash')),row=1,col=2,secondary_y=True)\n",
    "\n",
    "# fig.add_trace(go.Scatter(x=x, y=offline_c3, showlegend=False, line=dict(color='#ef857e', width=2)),row=1,col=3)\n",
    "# fig.add_trace(go.Scatter(x=x, y=offline_e3, showlegend=False, line=dict(color='#8cc1e6', width=2)),row=1,col=3,secondary_y=True)\n",
    "\n",
    "# fig.add_trace(go.Scatter(x=x, y=edf_c, showlegend=False, line=dict(color='#ef857e', width=2, dash='dash')),row=1,col=3)\n",
    "# fig.add_trace(go.Scatter(x=x, y=edf_e, yaxis='y2',showlegend=False, line=dict(color='#8cc1e6', width=2,dash='dash')),row=1,col=3,secondary_y=True)\n",
    "fig.add_vrect(\n",
    "    x0=0, x1=20,\n",
    "    fillcolor='#a8ecd9', opacity=0.5,\n",
    "    layer=\"below\", line_width=0,row=1,col=1\n",
    ")\n",
    "fig.add_vrect(\n",
    "    x0=14, x1=36,\n",
    "    fillcolor='#a8ecd9', opacity=0.5,\n",
    "    layer=\"below\", line_width=0,row=1,col=2\n",
    ")\n",
    "\n",
    "fig.update(layout={\n",
    "    'xaxis':{'title':'Num of vehicles arrived', 'showline':True},\n",
    "    'yaxis':{'title': 'Carbon emission(kg)'},\n",
    "    'yaxis2':{'title': 'Energy delivered  (%)','range':[0,101],'anchor':'x','overlaying':'y','side':'right'},\n",
    "    'yaxis4':{'range':[1,101]},\n",
    "    'yaxis6':{'range':[1,101]},\n",
    "    \"font\": {\"size\": 20},\n",
    "    'template':'simple_white',\n",
    "    'legend':{'yanchor':'bottom','y':1.2,'xanchor':'left','x':0.0,'orientation':'h'},\n",
    "     'width':1000,\n",
    "    'height':500\n",
    "})\n",
    "fig.show()"
   ]
  },
  {
   "cell_type": "code",
   "execution_count": null,
   "metadata": {},
   "outputs": [],
   "source": [
    "fig.write_image(\"image/different_factor_4.pdf\")"
   ]
  },
  {
   "cell_type": "code",
   "execution_count": null,
   "metadata": {},
   "outputs": [],
   "source": []
  },
  {
   "cell_type": "markdown",
   "metadata": {},
   "source": [
    "# Plot comparison baselines"
   ]
  },
  {
   "cell_type": "code",
   "execution_count": null,
   "metadata": {},
   "outputs": [],
   "source": [
    "d1 = pd.read_csv('MPC_offline.csv', index_col=0)\n",
    "d11 = d1[d1['factor']==1]\n",
    "d12 = d1[d1['factor']==1.5]\n",
    "d12 = d1[d1['factor']==1.5]\n",
    "d2 = pd.read_csv('EDF_P60.csv', index_col=0)\n",
    "d3 = pd.read_csv('ES_P60.csv', index_col=0)\n",
    "\n",
    "\n",
    "\n",
    "x = ['Offline','EDF','ES']\n",
    "fig = make_subplots(specs=[[{\"secondary_y\": True}]])\n",
    "fig.add_trace(go.Bar(name='Total carbon_emission(kg)', x=x, y=[np.sum(d['carbon_emission(kg)']) for d in [d11,d2,d3]],marker_color='#ef857e'),secondary_y=False)\n",
    "fig.add_trace(go.Bar(name='Energy delivery(%)', x=x, y=[np.sum(d['delivery'])/np.sum(d['required'])*100 for d in [d12,d2,d3]],marker_color='#8cc1e6'),secondary_y=True)\n",
    "\n",
    "fig.update(layout={\n",
    "    'barmode':'group',\n",
    "    'xaxis':{'title':'Num of vehicles arrived', 'showline':True},\n",
    "    'yaxis':{'title': 'Carbon emission(kg)'},\n",
    "    'yaxis2':{'title': 'Energy delivery(%)'},\n",
    "    \"font\": {\"size\": 20},\n",
    "    'template':'simple_white',\n",
    "    'legend':{'yanchor':'bottom','y':1.1,'xanchor':'left','x':0.0,'orientation':'h'},\n",
    "     'width':900,\n",
    "    'height':450\n",
    "})\n",
    "fig.show()\n"
   ]
  },
  {
   "cell_type": "code",
   "execution_count": null,
   "metadata": {},
   "outputs": [],
   "source": [
    "d1 = pd.read_csv('MPC_offline.csv', index_col=0)\n",
    "d11 = d1[d1['factor']==1]\n",
    "d12 = d1[d1['factor']==1.5]\n",
    "d13 = pd.read_csv('online_P120.csv', index_col=0)\n",
    "d13 = d13[d13['factor']==1.5]\n",
    "d2 = pd.read_csv('EDF.csv', index_col=0)\n",
    "d3 = pd.read_csv('ES.csv', index_col=0)\n",
    "d4 = pd.read_csv('TOU_P120.csv', index_col=0)\n",
    "d4 = d4[d4['factor']==1.5]\n",
    "\n",
    "x = ['Offline','Online', 'TOU', 'EDF','ES']\n",
    "fig = go.Figure(\n",
    "    data=[\n",
    "        go.Bar(name='Total carbon emission (kg)', x=x, y=[np.sum(d['carbon_emission(kg)']) for d in [d12,d13,d4,d2,d3]], yaxis='y', offsetgroup=1,marker_color='#ef857e'),\n",
    "        go.Bar(name='Energy delivery (%)', x=x, y=[np.sum(d['delivery'])/np.sum(d['required'])*100 for d in [d12,d13,d4,d2,d3]], yaxis='y2', offsetgroup=2,marker_color='#8cc1e6')\n",
    "    ],\n",
    "    layout={\n",
    "        'yaxis': {'title': 'carbon emission'},\n",
    "        'yaxis2': {'title': 'energy delivery', 'overlaying': 'y', 'side': 'right'}\n",
    "    }\n",
    ")\n",
    "\n",
    "# Change the bar mode\n",
    "fig.update_layout(barmode='group',\n",
    "                  width = 900,\n",
    "                  height= 450,\n",
    "                  font= {\"size\": 20},\n",
    "    template='simple_white',\n",
    "    legend={'yanchor':'bottom','y':1.1,'xanchor':'left','x':0.0,'orientation':'h'},\n",
    "                \n",
    "                )\n",
    "fig.show()\n"
   ]
  },
  {
   "cell_type": "code",
   "execution_count": null,
   "metadata": {},
   "outputs": [],
   "source": [
    "5/8*12"
   ]
  },
  {
   "cell_type": "markdown",
   "metadata": {},
   "source": [
    "# plot Seasonal figures"
   ]
  },
  {
   "cell_type": "code",
   "execution_count": null,
   "metadata": {},
   "outputs": [],
   "source": [
    "spring = [d for d in date if int(str(d)[4:6]) in [3,4,5] ]\n",
    "spring = [idx for idx, d in enumerate(np.unique(date)) if d in spring]\n",
    "summer = [d for d in date if int(str(d)[4:6]) in [6,7,8] ]\n",
    "summer = [idx for idx, d in enumerate(np.unique(date)) if d in summer]\n",
    "autumn = [d for d in date if int(str(d)[4:6]) in [9,10,11] ]\n",
    "autumn = [idx for idx, d in enumerate(np.unique(date)) if d in autumn]\n",
    "winter = [d for d in date if int(str(d)[4:6]) in [12,1,2] ]\n",
    "winter = [idx for idx, d in enumerate(np.unique(date)) if d in winter]"
   ]
  },
  {
   "cell_type": "code",
   "execution_count": null,
   "metadata": {},
   "outputs": [],
   "source": [
    "data = np.zeros(6742)\n",
    "with open('../data/Processed Data/CAISO_2021_Daily_CO2_Intensity.csv', newline='') as file:\n",
    "        reader = csv.reader(file)\n",
    "        next(reader)\n",
    "        data = [data for data in reader]\n",
    "        data_array = np.asarray(data, dtype=float)\n",
    "carbon_intensity = data_array"
   ]
  },
  {
   "cell_type": "code",
   "execution_count": 131,
   "metadata": {},
   "outputs": [
    {
     "data": {
      "text/plain": [
       "[53,\n",
       " 54,\n",
       " 55,\n",
       " 56,\n",
       " 57,\n",
       " 58,\n",
       " 59,\n",
       " 60,\n",
       " 61,\n",
       " 62,\n",
       " 63,\n",
       " 64,\n",
       " 65,\n",
       " 66,\n",
       " 67,\n",
       " 68,\n",
       " 69,\n",
       " 70,\n",
       " 71,\n",
       " 72,\n",
       " 73,\n",
       " 74,\n",
       " 75,\n",
       " 76,\n",
       " 77,\n",
       " 78,\n",
       " 79,\n",
       " 80,\n",
       " 81,\n",
       " 82,\n",
       " 83,\n",
       " 84,\n",
       " 85,\n",
       " 86,\n",
       " 87,\n",
       " 88,\n",
       " 89,\n",
       " 90,\n",
       " 91,\n",
       " 92,\n",
       " 93,\n",
       " 94,\n",
       " 95,\n",
       " 96,\n",
       " 97,\n",
       " 98,\n",
       " 99,\n",
       " 100,\n",
       " 101,\n",
       " 102,\n",
       " 103,\n",
       " 104,\n",
       " 105,\n",
       " 106,\n",
       " 107,\n",
       " 108,\n",
       " 109,\n",
       " 110,\n",
       " 111,\n",
       " 112,\n",
       " 113,\n",
       " 114,\n",
       " 115,\n",
       " 116,\n",
       " 117,\n",
       " 118,\n",
       " 119,\n",
       " 120,\n",
       " 121,\n",
       " 122,\n",
       " 123,\n",
       " 124,\n",
       " 125,\n",
       " 126,\n",
       " 127,\n",
       " 128,\n",
       " 129,\n",
       " 130,\n",
       " 131,\n",
       " 132,\n",
       " 133,\n",
       " 134,\n",
       " 135,\n",
       " 136,\n",
       " 137,\n",
       " 138,\n",
       " 139,\n",
       " 140,\n",
       " 141]"
      ]
     },
     "execution_count": 131,
     "metadata": {},
     "output_type": "execute_result"
    }
   ],
   "source": [
    "spring"
   ]
  },
  {
   "cell_type": "code",
   "execution_count": null,
   "metadata": {},
   "outputs": [],
   "source": [
    "df = np.load(f'../result/season/edf_day{day}_P120.npz')\n",
    "np.shape(df['carbon'])"
   ]
  },
  {
   "cell_type": "code",
   "execution_count": null,
   "metadata": {},
   "outputs": [],
   "source": [
    "def s2s(s):\n",
    "    news = np.zeros(24)\n",
    "    for i in range(287):\n",
    "        news[i//12] += s[i]\n",
    "    return news/12"
   ]
  },
  {
   "cell_type": "code",
   "execution_count": 130,
   "metadata": {},
   "outputs": [],
   "source": [
    "springdays = spring[:10]\n",
    "summerdays = summer[:10]\n",
    "autumndays = autumn[:10]\n",
    "winterdays = winter[:10]\n",
    "edf1 = np.zeros(287)\n",
    "edf11 = np.zeros(287)\n",
    "edf2 = np.zeros(287)\n",
    "edf21 = np.zeros(287)\n",
    "edf3 = np.zeros(287)\n",
    "edf31 = np.zeros(287)\n",
    "edf4 = np.zeros(287)\n",
    "edf41 = np.zeros(287)\n",
    "off1 = np.zeros(287)\n",
    "off11 = np.zeros(287)\n",
    "off2 = np.zeros(287)\n",
    "off21 = np.zeros(287)\n",
    "off3 = np.zeros(287)\n",
    "off31 = np.zeros(287)\n",
    "off4 = np.zeros(287)\n",
    "off41 = np.zeros(287)\n",
    "for day in springdays:\n",
    "    df = np.load(f'../result/season/edf_day{day}_P120.npz')\n",
    "    edf1 += np.sum(df['carbon'],axis=1)\n",
    "    edf11 += np.sum(df['u'].T,axis=1)\n",
    "    df = np.load(f'../result/season/offline_day{day}_P120.npz')\n",
    "    off1 += np.sum(df['carbon'],axis=1)\n",
    "    off11 += np.sum(df['u'].T,axis=1)\n",
    "for day in summerdays:\n",
    "    df = np.load(f'../result/season/edf_day{day}_P120.npz')\n",
    "    edf2 += np.sum(df['carbon'],axis=1)\n",
    "    edf21 += np.sum(df['u'].T,axis=1)\n",
    "    df = np.load(f'../result/season/offline_day{day}_P120.npz')\n",
    "    off2 += np.sum(df['carbon'],axis=1)\n",
    "    off21 += np.sum(df['u'].T,axis=1)\n",
    "for day in autumndays:\n",
    "    df = np.load(f'../result/season/edf_day{day}_P120.npz')\n",
    "    edf3 += np.sum(df['carbon'],axis=1)\n",
    "    edf31 += np.sum(df['u'].T,axis=1)\n",
    "    df = np.load(f'../result/season/offline_day{day}_P120.npz')\n",
    "    off3 += np.sum(df['carbon'],axis=1)\n",
    "    off31 += np.sum(df['u'].T,axis=1)\n",
    "for day in winterdays:\n",
    "    df = np.load(f'../result/season/edf_day{day}_P120.npz')\n",
    "    edf4 += np.sum(df['carbon'],axis=1)\n",
    "    edf41 += np.sum(df['u'].T,axis=1)\n",
    "    df = np.load(f'../result/season/offline_day{day}_P120.npz')\n",
    "    off4 += np.sum(df['carbon'],axis=1)\n",
    "    off41 += np.sum(df['u'].T,axis=1)"
   ]
  },
  {
   "cell_type": "code",
   "execution_count": null,
   "metadata": {},
   "outputs": [],
   "source": [
    "s2s(edf1)"
   ]
  },
  {
   "cell_type": "code",
   "execution_count": null,
   "metadata": {},
   "outputs": [],
   "source": [
    "fig = make_subplots(rows=3, cols=4, subplot_titles=(\"Spring\", \"Summer\", \"Autumn\", \"Winter\"))\n",
    "\n",
    "x = list(range(24))\n",
    "fig.add_trace(go.Scatter(name='Carbon intensity', x=x, y=s2s(carbon_intensity[spring[0]][1:]), marker_color='#ffa05a',line={'width':3}),row=1, col=1)\n",
    "fig.add_trace(go.Scatter(name='Carbon emission: baseline', x=x, y=s2s(edf1),line={'width':3,'color':'#8dbf79'}),row=2, col=1)\n",
    "fig.add_trace(go.Scatter(name='Carbon emission: carbon aware', x=x, y=s2s(off1),line={'width':3,'color':'#ef857e',}),row=2, col=1)\n",
    "fig.add_trace(go.Scatter(name='Charging schedule: baseline', x=x, y=s2s(edf11),line={'width':3,'color':'#b076de'}),row=3, col=1)\n",
    "fig.add_trace(go.Scatter(name='Charging schedule: carbon aware', x=x, y=s2s(off11),line={'width':3,'color':'#8cc1e6',}),row=3, col=1)\n",
    "\n",
    "\n",
    "fig.add_trace(go.Scatter(name='Carbon intensity', x=x, y=s2s(carbon_intensity[summer[0]][1:]), marker_color='#ffa05a',line={'width':3},showlegend=False),row=1, col=2)\n",
    "fig.add_trace(go.Scatter(name='Carbon emission: baseline',showlegend=False, x=x, y=s2s(edf2),line={'width':3,'color':'#8dbf79'}),row=2, col=2)\n",
    "fig.add_trace(go.Scatter(name='Carbon emission: carbon aware',showlegend=False, x=x, y=s2s(off2),line={'width':3,'color':'#ef857e'}),row=2, col=2)\n",
    "fig.add_trace(go.Scatter(name='Charging schedule: baseline',showlegend=False, x=x, y=s2s(edf21),line={'width':3,'color':'#b076de'}),row=3, col=2)\n",
    "fig.add_trace(go.Scatter(name='Charging schedule: carbon aware', showlegend=False,x=x, y=s2s(off21),line={'width':3,'color':'#8cc1e6',}),row=3, col=2)\n",
    "\n",
    "fig.add_trace(go.Scatter(name='Carbon intensity', x=x, y=s2s(carbon_intensity[autumn[0]][1:]), marker_color='#ffa05a',line={'width':3},showlegend=False),row=1, col=3)\n",
    "fig.add_trace(go.Scatter(name='Carbon emission: baseline',showlegend=False, x=x, y=s2s(edf3),line={'width':3,'color':'#8dbf79'}),row=2, col=3)\n",
    "fig.add_trace(go.Scatter(name='Carbon emission: carbon aware',showlegend=False, x=x, y=s2s(off3),line={'width':3,'color':'#ef857e'}),row=2, col=3)\n",
    "fig.add_trace(go.Scatter(name='Charging schedule: baseline', showlegend=False,x=x, y=s2s(edf31),line={'width':3,'color':'#b076de'}),row=3, col=3)\n",
    "fig.add_trace(go.Scatter(name='Charging schedule: carbon aware',showlegend=False, x=x, y=s2s(off31),line={'width':3,'color':'#8cc1e6',}),row=3, col=3)\n",
    "\n",
    "fig.add_trace(go.Scatter(name='Carbon intensity', x=x, y=s2s(carbon_intensity[winter[0]][1:]), marker_color='#ffa05a',line={'width':3},showlegend=False),row=1, col=4)\n",
    "fig.add_trace(go.Scatter(name='Carbon emission: baseline', showlegend=False,x=x, y=s2s(edf4),line={'width':3,'color':'#8dbf79'}),row=2, col=4)\n",
    "fig.add_trace(go.Scatter(name='Carbon emission: carbon aware', showlegend=False,x=x, y=s2s(off4),line={'width':3,'color':'#ef857e'}),row=2, col=4)\n",
    "fig.add_trace(go.Scatter(name='Charging schedule: baseline', showlegend=False,x=x, y=s2s(edf41),line={'width':3,'color':'#b076de'}),row=3, col=4)\n",
    "fig.add_trace(go.Scatter(name='Charging schedule: carbon aware',showlegend=False, x=x, y=s2s(off41),line={'width':3,'color':'#8cc1e6',}),row=3, col=4)\n",
    "\n",
    "fig.update(layout={\n",
    "    'xaxis9':{'title':'Time (Hours)', 'showline':True},\n",
    "    'yaxis':{'title': 'C(t)'},\n",
    "    'yaxis5':{'title': 'Carbo(kg)'},\n",
    "    'yaxis9':{'title': 'u(t)'},\n",
    "    \"font\": {\"size\": 20},\n",
    "    'template':'simple_white',\n",
    "    'legend':{'yanchor':'bottom','y':1.2,'xanchor':'left','x':0.0,'orientation':'h'},\n",
    "     'width':1500,\n",
    "    'height':700\n",
    "})\n",
    "fig.update_annotations(font_size=20)\n",
    "fig.show()\n"
   ]
  },
  {
   "cell_type": "code",
   "execution_count": null,
   "metadata": {},
   "outputs": [],
   "source": [
    "fig.write_image(\"image/season2_P120.pdf\")"
   ]
  },
  {
   "cell_type": "code",
   "execution_count": null,
   "metadata": {},
   "outputs": [],
   "source": [
    "mpc_offline = pd.read_csv('MPC_offline.csv', index_col=0)\n",
    "mpc_offline = mpc_offline[mpc_offline['factor']==1]\n",
    "mpc_offline = mpc_offline[mpc_offline['num_vehicle'] < 25]\n",
    "edf = pd.read_csv('EDF.csv', index_col=0)\n",
    "edf = edf[edf['num_vehicle'] < 25]\n",
    "\n",
    "print(len(edf), len(mpc_offline))\n",
    "\n",
    "mpc_offline_spring = mpc_offline.loc[mpc_offline['day'].isin(spring)]\n",
    "edf_spring = edf.loc[edf['day'].isin(spring)]\n",
    "print(len(edf_spring), len(mpc_offline_spring))\n",
    "\n",
    "mpc_offline_2 = mpc_offline.loc[mpc_offline['day'].isin(summer)]\n",
    "edf_2 = edf.loc[edf['day'].isin(summer)]\n",
    "print(len(edf_2), len(mpc_offline_2))\n",
    "\n",
    "mpc_offline_3 = mpc_offline.loc[mpc_offline['day'].isin(autumn)]\n",
    "edf_3 = edf.loc[edf['day'].isin(autumn)]\n",
    "print(len(edf_3), len(mpc_offline_3))\n",
    "\n",
    "mpc_offline_4 = mpc_offline.loc[mpc_offline['day'].isin(winter)]\n",
    "edf_4 = edf.loc[edf['day'].isin(winter)]\n",
    "print(len(edf_4), len(mpc_offline_4))"
   ]
  },
  {
   "cell_type": "code",
   "execution_count": null,
   "metadata": {},
   "outputs": [],
   "source": []
  },
  {
   "cell_type": "code",
   "execution_count": null,
   "metadata": {},
   "outputs": [],
   "source": [
    "edf_spring_carbon = np.sum(edf_spring['carbon_emission(kg)'])\n",
    "mpc_offline_spring_carbon = np.sum(mpc_offline_spring['carbon_emission(kg)'])\n",
    "edf_spring_energy = np.sum(edf_spring['delivery']) / np.sum(edf_spring['required']) *100\n",
    "mpc_offline_spring_energy = np.sum(mpc_offline_spring['delivery']) / np.sum(mpc_offline_spring['required']) *100\n",
    "\n",
    "edf2_carbon = np.sum(edf_2['carbon_emission(kg)'])\n",
    "mpc_offline2_carbon = np.sum(mpc_offline_2['carbon_emission(kg)'])\n",
    "edf2_energy = np.sum(edf_2['delivery']) / np.sum(edf_2['required']) *100\n",
    "mpc_offline2_energy = np.sum(mpc_offline_2['delivery']) / np.sum(mpc_offline_2['required']) *100\n",
    "\n",
    "edf3_carbon = np.sum(edf_3['carbon_emission(kg)'])\n",
    "mpc_offline3_carbon = np.sum(mpc_offline_3['carbon_emission(kg)'])\n",
    "edf3_energy = np.sum(edf_3['delivery']) / np.sum(edf_3['required']) *100\n",
    "mpc_offline3_energy = np.sum(mpc_offline_3['delivery']) / np.sum(mpc_offline_3['required']) *100\n",
    "\n",
    "edf4_carbon = np.sum(edf_4['carbon_emission(kg)'])\n",
    "mpc_offline4_carbon = np.sum(mpc_offline_4['carbon_emission(kg)'])\n",
    "edf4_energy = np.sum(edf_4['delivery']) / np.sum(edf_4['required']) *100\n",
    "mpc_offline4_energy = np.sum(mpc_offline_4['delivery']) / np.sum(mpc_offline_4['required']) *100\n"
   ]
  },
  {
   "cell_type": "code",
   "execution_count": null,
   "metadata": {},
   "outputs": [],
   "source": [
    "from plotly.subplots import make_subplots\n",
    "x = ['carbon-aware','baseline']\n",
    "fig = make_subplots(rows=2, cols=2, subplot_titles=(\"Spring\", \"Summer\", \"Autumn\", \"Winter\"),specs=[[{\"secondary_y\": True}, {\"secondary_y\": True}],\n",
    "                           [{\"secondary_y\": True}, {\"secondary_y\": True}]])\n",
    "\n",
    "\n",
    "fig.add_trace(go.Bar(name='Total carbon_emission(kg)', x=x, y=[mpc_offline_spring_carbon,edf_spring_carbon],marker_color='#ef857e'),row=1, col=1,secondary_y=False)\n",
    "fig.add_trace(go.Scatter(name='Energy delivery(%)', x=x, y=[mpc_offline_spring_energy,edf_spring_energy], marker_color='#8cc1e6',line={'width':4}),row=1, col=1, secondary_y=True)\n",
    "\n",
    "fig.add_trace(go.Bar(name='carbon_emission(kg)', x=x, y=[mpc_offline2_carbon,edf2_carbon],marker_color='#ef857e',showlegend=False),row=1, col=2)\n",
    "fig.add_trace(go.Scatter(name='Energy delivery(%)', x=x, y=[mpc_offline2_energy,edf2_energy], marker_color='#8cc1e6',showlegend=False,line={'width':4}),row=1, col=2, secondary_y=True)\n",
    "\n",
    "fig.add_trace(go.Bar(name='carbon_emission(kg)', x=x, y=[mpc_offline3_carbon,edf3_carbon],marker_color='#ef857e',showlegend=False),row=2, col=1)\n",
    "fig.add_trace(go.Scatter(name='Energy delivery(%)', x=x, y=[mpc_offline3_energy,edf3_energy], marker_color='#8cc1e6',showlegend=False,line={'width':4}),row=2, col=1, secondary_y=True)\n",
    "\n",
    "fig.add_trace(go.Bar(name='carbon_emission(kg)', x=x, y=[mpc_offline4_carbon,edf4_carbon],marker_color='#ef857e',showlegend=False),row=2, col=2)\n",
    "fig.add_trace(go.Scatter(name='Energy delivery(%)', x=x, y=[mpc_offline4_energy,edf4_energy], marker_color='#8cc1e6',showlegend=False,line={'width':4}),row=2, col=2, secondary_y=True)\n",
    "\n",
    "fig.update_layout(height=800, width=900,template='simple_white',yaxis2={'range':[1,101]},yaxis4={'range':[1,101]},yaxis6={'range':[1,101]},yaxis8={'range':[1,101]},legend={'yanchor':'bottom','y':1.1,'xanchor':'left','x':-0.05,'orientation':'h'},font={\"size\": 20})\n",
    "fig.show()"
   ]
  },
  {
   "cell_type": "code",
   "execution_count": null,
   "metadata": {},
   "outputs": [],
   "source": [
    "fig.write_image(\"image/season.pdf\")"
   ]
  },
  {
   "cell_type": "markdown",
   "metadata": {},
   "source": [
    "# plot EV figures"
   ]
  },
  {
   "cell_type": "code",
   "execution_count": null,
   "metadata": {},
   "outputs": [],
   "source": [
    "total_num_of_data_entries = 6742\n",
    "arrival_time = np.zeros(total_num_of_data_entries)\n",
    "arrival_time2 = np.zeros(24)\n",
    "arrival_time3 = np.zeros(24)\n",
    "departure_time = np.zeros(total_num_of_data_entries)\n",
    "date = np.zeros(total_num_of_data_entries)\n",
    "with open('../BerkeleyDataCleaned_timestep_adjusted.csv', newline='') as file:\n",
    "    reader = csv.reader(file)\n",
    "    next(reader)\n",
    "\n",
    "    line_count=0\n",
    "    for row in reader:\n",
    "        theRow = list(row)\n",
    "        arrival_time[line_count] = float(theRow[2])\n",
    "        arrival_time2[int(theRow[2])//12] += 1\n",
    "        departure_time[line_count] = float(theRow[3])\n",
    "        if theRow[0] == '20210715':\n",
    "            arrival_time3[int(theRow[2])//12] += 1\n",
    "        date[line_count]=(float(theRow[0]))\n",
    "        line_count += 1\n",
    "\n",
    "arrival_time, departure_time"
   ]
  },
  {
   "cell_type": "code",
   "execution_count": null,
   "metadata": {},
   "outputs": [],
   "source": [
    "int(theRow[2])//12"
   ]
  },
  {
   "cell_type": "code",
   "execution_count": null,
   "metadata": {},
   "outputs": [],
   "source": [
    "fig = go.Figure()\n",
    "#fig.add_trace(go.Histogram(x=arrival_time,name='Number of vehicles'))\n",
    "fig.add_trace(go.Bar(y=arrival_time2))\n",
    "#fig.add_traces(go.Scatter(x=list(range(24)),y=np.mean(carbon_intensity,axis=0)[1:],name='Carbon intensity',yaxis='y2'))\n",
    "\n",
    "fig.update_layout(template='simple_white',xaxis_title='Time (Hours)', yaxis_title='Number of vehicles',width=700,height=400, yaxis2={'title': 'Carbon intensity', 'overlaying': 'y', 'side': 'right','range':[-0,0.5]},legend={'yanchor':'bottom','y':1.1,'xanchor':'left','x':-0.05,'orientation':'h'},font={\"size\": 20})\n",
    "fig.show()"
   ]
  },
  {
   "cell_type": "code",
   "execution_count": null,
   "metadata": {},
   "outputs": [],
   "source": [
    "fig.write_image(\"image/arrival_time_distribution.pdf\")"
   ]
  },
  {
   "cell_type": "code",
   "execution_count": null,
   "metadata": {},
   "outputs": [],
   "source": [
    "fig = make_subplots(rows=1, cols=2,subplot_titles=(\"All days in 2021\",\"July 15th, 2021\"))\n",
    "fig.add_trace(go.Bar(y=arrival_time2,marker_color='#2077b4',showlegend=False),row=1,col=1)\n",
    "fig.add_trace(go.Bar(y=arrival_time3,marker_color='#2077b4',showlegend=False),row=1,col=2)\n",
    "\n",
    "fig.update_layout(template='simple_white',xaxis_title='Time (Hours)', yaxis_title='Total vehicles arrived',font={\"size\": 20},title_font={\"size\": 20},width=1000,height=500,xaxis2={'title':'Time (Hours)'})\n",
    "fig.update_annotations(font_size=22)\n",
    "fig.show()\n"
   ]
  },
  {
   "cell_type": "code",
   "execution_count": null,
   "metadata": {},
   "outputs": [],
   "source": [
    "fig.write_image(\"image/arrival_time_distribution.pdf\")"
   ]
  },
  {
   "cell_type": "code",
   "execution_count": null,
   "metadata": {},
   "outputs": [],
   "source": [
    "res = []\n",
    "starting_index=0\n",
    "end_index=0\n",
    "for current_date in range(336):\n",
    "    starting_index=np.copy(end_index)\n",
    "    num_of_vehicles=0\n",
    "\n",
    "    while date[end_index]==date[starting_index]:\n",
    "        num_of_vehicles+=1\n",
    "        end_index+=1\n",
    "\n",
    "    res.append(num_of_vehicles)"
   ]
  },
  {
   "cell_type": "code",
   "execution_count": null,
   "metadata": {},
   "outputs": [],
   "source": [
    "fig = go.Figure()\n",
    "fig.add_trace(go.Histogram(x=res, name='solution',xbins=dict(start=0.0, end=50, size=1)))\n",
    "fig.update_layout(template='simple_white',xaxis_title='Number of vehicles', yaxis_title='Number of days',width=900,height=500,font=dict({\"size\": 20}))\n",
    "fig.show()"
   ]
  },
  {
   "cell_type": "code",
   "execution_count": null,
   "metadata": {},
   "outputs": [],
   "source": [
    "fig.write_image(\"image/distribution_numvehicle.pdf\")"
   ]
  },
  {
   "cell_type": "code",
   "execution_count": null,
   "metadata": {},
   "outputs": [],
   "source": [
    "unique, counts = np.unique(np.array(res), return_counts=True)\n",
    "dict(zip(unique, counts))\n"
   ]
  },
  {
   "cell_type": "code",
   "execution_count": null,
   "metadata": {},
   "outputs": [],
   "source": []
  }
 ],
 "metadata": {
  "interpreter": {
   "hash": "5cc9548c05a244386a6d3194fd4ce0daff846e301aca00a00f7a9d28040987a3"
  },
  "kernelspec": {
   "display_name": "Python 3.8.13 64-bit ('dr': conda)",
   "name": "python3"
  },
  "language_info": {
   "codemirror_mode": {
    "name": "ipython",
    "version": 3
   },
   "file_extension": ".py",
   "mimetype": "text/x-python",
   "name": "python",
   "nbconvert_exporter": "python",
   "pygments_lexer": "ipython3",
   "version": "3.8.13"
  },
  "orig_nbformat": 4
 },
 "nbformat": 4,
 "nbformat_minor": 2
}
