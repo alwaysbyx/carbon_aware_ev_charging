{
 "cells": [
  {
   "cell_type": "code",
   "execution_count": 6,
   "metadata": {},
   "outputs": [],
   "source": [
    "import numpy as np\n",
    "import csv\n",
    "import cvxpy as cp #convex optimization\n",
    "import matplotlib.pyplot as plt \n",
    "import argparse\n",
    "import time"
   ]
  },
  {
   "cell_type": "markdown",
   "metadata": {},
   "source": [
    "## Experiment Setting (for instance)\n",
    "- 96 operation steps: 15 min/step, total 24 hours\n",
    "- Power Capacity $\\bar{P}$: the total power of charging station can delivery at one time step, 12kW -> 3/step\n",
    "- SoC $x$: the percents of energy of vehicle\n",
    "- Full Battery energy of vehicle $B$, 8 kWh\n",
    "- Rated Battery Power $\\bar{u}$: 1.6 kW -> 0.4/step"
   ]
  },
  {
   "cell_type": "code",
   "execution_count": 7,
   "metadata": {},
   "outputs": [],
   "source": [
    "num_steps = 96\n",
    "total_vehicles = 50\n",
    "battery_capacity = 8\n",
    "power_capacity = 3\n",
    "max_power_u = 0.4\n",
    "\n",
    "dataset = generate_dataset(num_step=num_steps, total_vehicles=total_vehicles, battery_capacity=battery_capacity)\n",
    "carbon_intensity = dataset['carbon_intensity']\n",
    "arrival_time = dataset['arrival_time']\n",
    "depart_time = dataset['depart_time']\n",
    "initial_state = dataset['initial_state']\n",
    "final_energy = dataset['final_energy']\n",
    "required_energy = dataset['required_energy']"
   ]
  },
  {
   "cell_type": "code",
   "execution_count": 8,
   "metadata": {},
   "outputs": [
    {
     "name": "stdout",
     "output_type": "stream",
     "text": [
      "arrival time:25.0\n"
     ]
    },
    {
     "data": {
      "image/png": "[encoded data removed]",
      "text/plain": [
       "<Figure size 432x288 with 1 Axes>"
      ]
     },
     "metadata": {
      "needs_background": "light"
     },
     "output_type": "display_data"
    },
    {
     "name": "stdout",
     "output_type": "stream",
     "text": [
      "the energy delivery: 151.5, the required energy: 194.73, the carbon emission term: 326.23\n"
     ]
    }
   ],
   "source": [
    "x, u = carbon_aware_MPC(carbon_intensity, total_vehicles, num_steps, initial_state, max_power_u, final_energy, arrival_time, depart_time, power_capacity,battery_capacity,factor=30)\n",
    "carbon_emission = np.sum(np.array([u[:,t]*carbon_intensity[t] for t in range(num_steps)]))\n",
    "print(f'the energy delivery: {round(np.sum(u),2)}, the required energy: {round(np.sum(required_energy),2)}, the carbon emission term: {round(carbon_emission,2)}')"
   ]
  },
  {
   "cell_type": "code",
   "execution_count": 9,
   "metadata": {},
   "outputs": [
    {
     "name": "stdout",
     "output_type": "stream",
     "text": [
      "arrival time:25.0\n"
     ]
    },
    {
     "data": {
      "image/png": "[encoded data removed]",
      "text/plain": [
       "<Figure size 432x288 with 1 Axes>"
      ]
     },
     "metadata": {
      "needs_background": "light"
     },
     "output_type": "display_data"
    },
    {
     "name": "stdout",
     "output_type": "stream",
     "text": [
      "the energy delivery: 157.65, the required energy: 194.73, the carbon emission term: 342.24\n"
     ]
    }
   ],
   "source": [
    "x, u = carbon_aware_MPC(carbon_intensity, total_vehicles, num_steps, initial_state, max_power_u, final_energy, arrival_time, depart_time, power_capacity, battery_capacity, factor=60)\n",
    "carbon_emission = np.sum(np.array([u[:,t]*carbon_intensity[t] for t in range(num_steps)]))\n",
    "print(f'the energy delivery: {round(np.sum(u),2)}, the required energy: {round(np.sum(required_energy),2)}, the carbon emission term: {round(carbon_emission,2)}')"
   ]
  },
  {
   "cell_type": "code",
   "execution_count": 10,
   "metadata": {},
   "outputs": [],
   "source": [
    "def generate_dataset(num_step=96, total_vehicles=100, battery_capacity = 8, lam=9, seed=0):\n",
    "    np.random.seed(seed)\n",
    "    arrival_time= np.random.poisson(lam=lam, size=(total_vehicles,))\n",
    "    arrival_time = np.sort(arrival_time)*4.0\n",
    "    arrival_time = arrival_time + np.random.randint(0,4, size=(total_vehicles,))\n",
    "    arrival_time = np.sort(arrival_time)\n",
    "    depart_time = np.random.randint(6, 36, size=(total_vehicles,))\n",
    "    depart_time = np.min((arrival_time+depart_time, np.ones_like(arrival_time)*num_step), axis=0)\n",
    "    \n",
    "    initial_state=np.random.uniform(0.8, 4.0, size=(total_vehicles,))\n",
    "    required_energy=np.random.uniform(2.0, 6.0, size=(total_vehicles,))\n",
    "    final_energy = np.min((initial_state+required_energy, np.ones_like(initial_state)*battery_capacity), axis=0)\n",
    "    required_energy = np.round(final_energy-initial_state, 2)\n",
    "    \n",
    "    carbon_intensity = np.array([0.005*(t-40)**2 + 20 for t in range(60)] + [-0.005*(t-30)**2 + 28 for t in range(36)]) / 10\n",
    "    dataset = {'carbon_intensity':carbon_intensity, 'arrival_time':arrival_time, 'depart_time':depart_time, 'initial_state':initial_state, 'required_energy': required_energy, 'final_energy':final_energy}\n",
    "    \n",
    "    return dataset\n",
    "\n",
    "\n",
    "def carbon_aware_MPC(carbon_intensity, num_of_vehicles, timesteps, initial_states, max_power, terminal_states, arrival_time, dept_time, power_capacity, B, factor = 1):\n",
    "    x_terminal=cp.Parameter(num_of_vehicles, name='x_terminal') # Requested end SoC for all vehicles\n",
    "    x0 = cp.Parameter(num_of_vehicles, name='x0') # Initial SoC for all vehicles\n",
    "    max_sum_u = cp.Parameter(name='max_sum_u') # Peak charging power for the infrastructure\n",
    "    u_max = cp.Parameter(name='u_max') # Maximum charging power for each vehicle at each time step\n",
    "    \n",
    "    x = cp.Variable((num_of_vehicles, timesteps+1), name='x') # SoC at each time step for each vehicle\n",
    "    u = cp.Variable((num_of_vehicles, timesteps), name='u') # charging power at each time step for each vehicle\n",
    "\n",
    "    x_terminal.value=terminal_states\n",
    "    x0.value = initial_states\n",
    "    max_sum_u.value = power_capacity\n",
    "    u_max.value = max_power\n",
    "\n",
    "    constr = [x[:,0] == x0,  x[:,-1] <= x_terminal]\n",
    "\n",
    "    for i in range(num_of_vehicles):\n",
    "        constr += [x[i,1:] == x[i,0:timesteps] + u[i,:], u[i,:] >= 0,]\n",
    "        for t in range(timesteps):\n",
    "            constr += [u[i, t] <= u_max*(t>=arrival_time[i]),\n",
    "                       u[i, t] <= u_max*(t<dept_time[i])]\n",
    "    obj = 0.\n",
    "    for t in range (timesteps):\n",
    "        constr += [cp.sum(u[0:num_of_vehicles,t]) <= power_capacity]\n",
    "        obj += cp.sum(u[:,t]*carbon_intensity[t])\n",
    "\n",
    "    obj += factor * cp.norm(x[:, -1] - x_terminal, 2)\n",
    "    prob = cp.Problem(cp.Minimize(obj), constr)\n",
    "    prob.solve()\n",
    "\n",
    "    plt.plot(x.value[10]/B,label='SoC')\n",
    "    plt.plot(u.value[10],label='charging_power')\n",
    "    plt.plot(carbon_intensity,label='carbon_intensity')\n",
    "    print(f'arrival time:{arrival_time[10]}')\n",
    "    plt.show()\n",
    "\n",
    "    return x.value/B, u.value"
   ]
  },
  {
   "cell_type": "code",
   "execution_count": null,
   "metadata": {},
   "outputs": [],
   "source": []
  }
 ],
 "metadata": {
  "interpreter": {
   "hash": "b21ebcbde1ae205617ba79cc7daedad1cb6102881e96a88dc7c8130139a54e33"
  },
  "kernelspec": {
   "display_name": "Python 3 (ipykernel)",
   "language": "python",
   "name": "python3"
  },
  "language_info": {
   "codemirror_mode": {
    "name": "ipython",
    "version": 3
   },
   "file_extension": ".py",
   "mimetype": "text/x-python",
   "name": "python",
   "nbconvert_exporter": "python",
   "pygments_lexer": "ipython3",
   "version": "3.7.7"
  }
 },
 "nbformat": 4,
 "nbformat_minor": 2
}
