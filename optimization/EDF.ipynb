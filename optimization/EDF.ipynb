{
 "cells": [
  {
   "cell_type": "markdown",
   "metadata": {},
   "source": [
    "# Earliest Deadline First Charging Strategy"
   ]
  },
  {
   "cell_type": "code",
   "execution_count": 2,
   "metadata": {},
   "outputs": [],
   "source": [
    "import numpy as np\n",
    "import csv\n",
    "import cvxpy as cp #convex optimization\n",
    "import matplotlib.pyplot as plt \n",
    "import argparse\n",
    "import time"
   ]
  },
  {
   "cell_type": "code",
   "execution_count": 4,
   "metadata": {},
   "outputs": [
    {
     "name": "stdout",
     "output_type": "stream",
     "text": [
      "arrival time:25.0\n"
     ]
    },
    {
     "data": {
      "image/png": "[encoded data removed]",
      "text/plain": [
       "<Figure size 432x288 with 1 Axes>"
      ]
     },
     "metadata": {
      "needs_background": "light"
     },
     "output_type": "display_data"
    },
    {
     "name": "stdout",
     "output_type": "stream",
     "text": [
      "the energy delivery: 160.22, the required energy: 194.73, the carbon emission term: 356.08\n"
     ]
    }
   ],
   "source": [
    "num_steps = 96\n",
    "total_vehicles = 50\n",
    "battery_capacity = 8\n",
    "power_capacity = 3\n",
    "max_power_u = 0.4\n",
    "\n",
    "dataset = generate_dataset(num_step=num_steps, total_vehicles=total_vehicles, battery_capacity=battery_capacity)\n",
    "carbon_intensity = dataset['carbon_intensity']\n",
    "arrival_time = dataset['arrival_time']\n",
    "depart_time = dataset['depart_time']\n",
    "initial_state = dataset['initial_state']\n",
    "final_energy = dataset['final_energy']\n",
    "required_energy = dataset['required_energy']\n",
    "\n",
    "x, u = EDF_charging(carbon_intensity, total_vehicles, num_steps, initial_state, max_power_u, final_energy, arrival_time, depart_time, power_capacity, battery_capacity)\n",
    "carbon_emission = np.sum(np.array([u[:,t]*carbon_intensity[t] for t in range(num_steps)]))\n",
    "print(f'the energy delivery: {round(np.sum(u),2)}, the required energy: {round(np.sum(required_energy),2)}, the carbon emission term: {round(carbon_emission,2)}')"
   ]
  },
  {
   "cell_type": "code",
   "execution_count": 3,
   "metadata": {},
   "outputs": [],
   "source": [
    "def generate_dataset(num_step=96, total_vehicles=100, battery_capacity = 8, lam=9, seed=0):\n",
    "    np.random.seed(seed)\n",
    "    arrival_time= np.random.poisson(lam=lam, size=(total_vehicles,))\n",
    "    arrival_time = np.sort(arrival_time)*4.0\n",
    "    arrival_time = arrival_time + np.random.randint(0,4, size=(total_vehicles,))\n",
    "    arrival_time = np.sort(arrival_time)\n",
    "    depart_time = np.random.randint(6, 36, size=(total_vehicles,))\n",
    "    depart_time = np.min((arrival_time+depart_time, np.ones_like(arrival_time)*num_step), axis=0)\n",
    "    \n",
    "    initial_state=np.random.uniform(0.8, 4.0, size=(total_vehicles,))\n",
    "    required_energy=np.random.uniform(2.0, 6.0, size=(total_vehicles,))\n",
    "    final_energy = np.min((initial_state+required_energy, np.ones_like(initial_state)*battery_capacity), axis=0)\n",
    "    required_energy = np.round(final_energy-initial_state, 2)\n",
    "    \n",
    "    carbon_intensity = np.array([0.005*(t-30)**2 + 20 for t in range(60)] + [-0.005*(t-30)**2 + 28 for t in range(36)]) / 10\n",
    "    dataset = {'carbon_intensity':carbon_intensity, 'arrival_time':arrival_time, 'depart_time':depart_time, 'initial_state':initial_state, 'required_energy': required_energy, 'final_energy':final_energy}\n",
    "    \n",
    "    return dataset\n",
    "\n",
    "def EDF_charging(carbon_intensity, num_of_vehicles, timesteps, initial_states, max_power, terminal_states, arrival_time, dept_time, power_capacity, B):\n",
    "    initial_state_EDF = np.copy(initial_states)\n",
    "    all_state_EDF = np.zeros((num_of_vehicles, timesteps+1))\n",
    "    for t in range(timesteps):\n",
    "        all_state_EDF[:,t] = initial_state_EDF[:]\n",
    "    u_mat=np.zeros((num_of_vehicles, timesteps), dtype=float)\n",
    "    sum_delivery = 0.\n",
    "\n",
    "    #-5 to avoid computation infeasibility at this time\n",
    "    for t in range(int(arrival_time[0])+1, num_steps-5):\n",
    "        power_budget=power_capacity #Change this for variable case\n",
    "\n",
    "        #print(\"Current time\", t)\n",
    "\n",
    "        #Firstly get the states\n",
    "        #print(\"current number of arrived cars\", (arrival_time < t).sum())\n",
    "        vehicle_ending_index = (arrival_time < t).sum()\n",
    "        step_initial_SOC = np.copy(initial_state_EDF[:vehicle_ending_index])\n",
    "        depart_schedule=np.copy(depart_time[:vehicle_ending_index])\n",
    "        u_val=np.zeros_like(step_initial_SOC) #record available cars charging rate\n",
    "        index=np.argsort(depart_schedule) #sort the departure time\n",
    "        charging_sessions=0\n",
    "\n",
    "        while power_budget>=0:\n",
    "            if depart_schedule[index[charging_sessions]] >= t: #not departed yet\n",
    "                available_charging=np.minimum(max_power, power_budget)\n",
    "                u_val[index[charging_sessions]] = np.maximum(np.minimum(available_charging, final_energy[index[charging_sessions]]-step_initial_SOC[index[charging_sessions]]),0)\n",
    "\n",
    "            power_budget -= u_val[index[charging_sessions]]\n",
    "            charging_sessions+=1\n",
    "\n",
    "            if charging_sessions>=vehicle_ending_index:\n",
    "                break\n",
    "\n",
    "        #print(\"SUM EDF\", np.sum(u_val))\n",
    "        updated_val = u_val\n",
    "        #print(\"U after MPC cut\", updated_val)\n",
    "        #print(\"SUM EDF Cut\", np.sum(updated_val))\n",
    "        initial_state_EDF[:vehicle_ending_index] += updated_val\n",
    "        #print(\"SOC_states\", np.round(initial_state_SOC[:vehicle_ending_index],2))\n",
    "        u_mat[:vehicle_ending_index, t]=updated_val\n",
    "        all_state_EDF[:,t] = initial_state_EDF[:]\n",
    "\n",
    "    plt.plot(all_state_EDF[10,:-5]/B,label='SoC')\n",
    "    plt.plot(u_mat[10,:-5],label='charging_power')\n",
    "    plt.plot(carbon_intensity,label='carbon_intensity')\n",
    "    print(f'arrival time:{arrival_time[10]}')\n",
    "    plt.show()\n",
    "    \n",
    "    return all_state_EDF/B, u_mat"
   ]
  }
 ],
 "metadata": {
  "interpreter": {
   "hash": "b21ebcbde1ae205617ba79cc7daedad1cb6102881e96a88dc7c8130139a54e33"
  },
  "kernelspec": {
   "display_name": "Python 3.8.13 64-bit ('ev1': conda)",
   "name": "python3"
  },
  "language_info": {
   "codemirror_mode": {
    "name": "ipython",
    "version": 3
   },
   "file_extension": ".py",
   "mimetype": "text/x-python",
   "name": "python",
   "nbconvert_exporter": "python",
   "pygments_lexer": "ipython3",
   "version": "3.8.13"
  },
  "orig_nbformat": 4
 },
 "nbformat": 4,
 "nbformat_minor": 2
}
